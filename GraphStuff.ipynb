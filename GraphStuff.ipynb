{
 "cells": [
  {
   "cell_type": "code",
   "execution_count": 106,
   "metadata": {},
   "outputs": [],
   "source": [
    "class Graph():\n",
    "    def __init__(self):\n",
    "        self.edges = {}     # keys are addresses, values are list with each address in list being an edge\n",
    "        self.weights = {}   # dictionary keys are tuples with (address 1, address 2), value = weight between them\n",
    "        self.n = 0          # number of vertices\n",
    "        \n",
    "    def add_edge(self,add1,add2,weight):\n",
    "        try:\n",
    "            self.edges[add1].append(add2)\n",
    "        except:\n",
    "            self.edges[add1] = []\n",
    "            self.edges[add1].append(add2)\n",
    "            self.n += 1\n",
    "        try:\n",
    "            self.edges[add2].append(add1)\n",
    "        except:\n",
    "            self.edges[add2] = []\n",
    "            self.edges[add2].append(add1)\n",
    "\n",
    "        self.weights[(add1,add2)] = weight\n",
    "        self.weights[(add2,add1)] = weight\n",
    "        \n",
    "    def DFS_Main(self,start):\n",
    "        vertices = [k for k in g.edges.keys()]\n",
    "        color = {}\n",
    "        for v in vertices:\n",
    "            color[v] = \"white\"\n",
    "        self.DFS(start,color)\n",
    "    \n",
    "    def DFS(self,v,colors):\n",
    "        colors[v] = \"grey\"\n",
    "        for w in self.edges[v]:\n",
    "            if colors[w] == \"white\":\n",
    "                self.DFS(w,colors)\n",
    "        print(v,end=\" \")\n",
    "        colors[v] = \"black\"\n",
    "\n"
   ]
  },
  {
   "cell_type": "code",
   "execution_count": 107,
   "metadata": {},
   "outputs": [],
   "source": [
    "import time\n",
    "import blockcypher\n",
    "import pandas as pd\n",
    "import requests as r\n",
    "import json\n"
   ]
  },
  {
   "cell_type": "code",
   "execution_count": 110,
   "metadata": {},
   "outputs": [],
   "source": [
    "def analyze_address(search_add,g,depth,max_depth=5):\n",
    "    time.sleep(0.2)\n",
    "    address_details = blockcypher.get_address_details(search_add)\n",
    "    for tx in address_details['txrefs']:\n",
    "        tx_hash = tx[\"tx_hash\"]\n",
    "        is_input  = True if tx[\"tx_input_n\"] == -1 else False\n",
    "        if is_input and tx[\"tx_output_n\"] == -1:\n",
    "            print(\"concerning\")\n",
    "            break\n",
    "        value = tx[\"value\"] \n",
    "        tx_details = blockcypher.get_transaction_details(tx_hash)     \n",
    "        if not is_input:\n",
    "            receiving_add = \"\"\n",
    "            if len(tx_details[\"outputs\"]) == 1: # there is no change for the transaction\n",
    "                receiving_add = tx_details[\"outputs\"][0][\"addresses\"][0]\n",
    "                weight = tx_details[\"outputs\"][0][\"value\"]\n",
    "            else: # there is change so we need to figure out which address is the recieving address and which is change\n",
    "                if tx_details[\"outputs\"][0][\"value\"] > tx_details[\"outputs\"][1][\"value\"]:\n",
    "                    receiving_add = tx_details[\"outputs\"][0][\"addresses\"][0]\n",
    "                    weight = tx_details[\"outputs\"][0][\"value\"]\n",
    "                else:\n",
    "                    receiving_add = tx_details[\"outputs\"][1][\"addresses\"][0]\n",
    "                    weight = tx_details[\"outputs\"][1][\"value\"]\n",
    "            if receiving_add not in g.edges.keys():\n",
    "                g.add_edge(search_add,receiving_add,value)\n",
    "                if depth < max_depth:\n",
    "                    g = analyze_address(receiving_add,g,depth + 1)\n",
    "        \n",
    "        else: #its an input to search address\n",
    "            \n",
    "            for inp in tx_details[\"inputs\"]:\n",
    "                output_add = inp[\"addresses\"][0]\n",
    "                value = inp[\"output_value\"]\n",
    "                if output_add not in g.edges.keys():\n",
    "                    g.add_edge(output_add,search_add,value)\n",
    "                    if depth < max_depth:\n",
    "                        g = analyze_address(output_add,g,depth+1)\n",
    "    \n",
    "    return g\n",
    "        \n",
    "        \n",
    "        \n",
    "        \n",
    "    "
   ]
  },
  {
   "cell_type": "code",
   "execution_count": 113,
   "metadata": {},
   "outputs": [
    {
     "ename": "RateLimitError",
     "evalue": "('Status Code 429', '{\"error\": \"Limits reached.\"}\\n')",
     "output_type": "error",
     "traceback": [
      "\u001b[1;31m---------------------------------------------------------------------------\u001b[0m",
      "\u001b[1;31mRateLimitError\u001b[0m                            Traceback (most recent call last)",
      "\u001b[1;32m<ipython-input-113-a81cb47fc1b6>\u001b[0m in \u001b[0;36m<module>\u001b[1;34m\u001b[0m\n\u001b[0;32m      2\u001b[0m \u001b[0msearch_add\u001b[0m \u001b[1;33m=\u001b[0m \u001b[1;34m\"111K8kZAEnJg245r2cM6y9zgJGHZtJPy6\"\u001b[0m\u001b[1;33m\u001b[0m\u001b[1;33m\u001b[0m\u001b[0m\n\u001b[0;32m      3\u001b[0m \u001b[0mg\u001b[0m \u001b[1;33m=\u001b[0m \u001b[0mGraph\u001b[0m\u001b[1;33m(\u001b[0m\u001b[1;33m)\u001b[0m\u001b[1;33m\u001b[0m\u001b[1;33m\u001b[0m\u001b[0m\n\u001b[1;32m----> 4\u001b[1;33m \u001b[0mg\u001b[0m \u001b[1;33m=\u001b[0m \u001b[0manalyze_address\u001b[0m\u001b[1;33m(\u001b[0m\u001b[0msearch_add\u001b[0m\u001b[1;33m,\u001b[0m\u001b[0mg\u001b[0m\u001b[1;33m,\u001b[0m\u001b[1;36m2\u001b[0m\u001b[1;33m)\u001b[0m\u001b[1;33m\u001b[0m\u001b[1;33m\u001b[0m\u001b[0m\n\u001b[0m\u001b[0;32m      5\u001b[0m \u001b[1;33m\u001b[0m\u001b[0m\n\u001b[0;32m      6\u001b[0m \u001b[1;33m\u001b[0m\u001b[0m\n",
      "\u001b[1;32m<ipython-input-110-a1aab7ccf7ac>\u001b[0m in \u001b[0;36manalyze_address\u001b[1;34m(search_add, g, depth, max_depth)\u001b[0m\n\u001b[0;32m      1\u001b[0m \u001b[1;32mdef\u001b[0m \u001b[0manalyze_address\u001b[0m\u001b[1;33m(\u001b[0m\u001b[0msearch_add\u001b[0m\u001b[1;33m,\u001b[0m\u001b[0mg\u001b[0m\u001b[1;33m,\u001b[0m\u001b[0mdepth\u001b[0m\u001b[1;33m,\u001b[0m\u001b[0mmax_depth\u001b[0m\u001b[1;33m=\u001b[0m\u001b[1;36m5\u001b[0m\u001b[1;33m)\u001b[0m\u001b[1;33m:\u001b[0m\u001b[1;33m\u001b[0m\u001b[1;33m\u001b[0m\u001b[0m\n\u001b[0;32m      2\u001b[0m     \u001b[0mtime\u001b[0m\u001b[1;33m.\u001b[0m\u001b[0msleep\u001b[0m\u001b[1;33m(\u001b[0m\u001b[1;36m0.2\u001b[0m\u001b[1;33m)\u001b[0m\u001b[1;33m\u001b[0m\u001b[1;33m\u001b[0m\u001b[0m\n\u001b[1;32m----> 3\u001b[1;33m     \u001b[0maddress_details\u001b[0m \u001b[1;33m=\u001b[0m \u001b[0mblockcypher\u001b[0m\u001b[1;33m.\u001b[0m\u001b[0mget_address_details\u001b[0m\u001b[1;33m(\u001b[0m\u001b[0msearch_add\u001b[0m\u001b[1;33m)\u001b[0m\u001b[1;33m\u001b[0m\u001b[1;33m\u001b[0m\u001b[0m\n\u001b[0m\u001b[0;32m      4\u001b[0m     \u001b[1;32mfor\u001b[0m \u001b[0mtx\u001b[0m \u001b[1;32min\u001b[0m \u001b[0maddress_details\u001b[0m\u001b[1;33m[\u001b[0m\u001b[1;34m'txrefs'\u001b[0m\u001b[1;33m]\u001b[0m\u001b[1;33m:\u001b[0m\u001b[1;33m\u001b[0m\u001b[1;33m\u001b[0m\u001b[0m\n\u001b[0;32m      5\u001b[0m         \u001b[0mtx_hash\u001b[0m \u001b[1;33m=\u001b[0m \u001b[0mtx\u001b[0m\u001b[1;33m[\u001b[0m\u001b[1;34m\"tx_hash\"\u001b[0m\u001b[1;33m]\u001b[0m\u001b[1;33m\u001b[0m\u001b[1;33m\u001b[0m\u001b[0m\n",
      "\u001b[1;32m~\\anaconda3\\lib\\site-packages\\blockcypher\\api.py\u001b[0m in \u001b[0;36mget_address_details\u001b[1;34m(address, coin_symbol, txn_limit, api_key, before_bh, after_bh, unspent_only, show_confidence, confirmations, include_script)\u001b[0m\n\u001b[0;32m    149\u001b[0m \u001b[1;33m\u001b[0m\u001b[0m\n\u001b[0;32m    150\u001b[0m     \u001b[0mr\u001b[0m \u001b[1;33m=\u001b[0m \u001b[0mrequests\u001b[0m\u001b[1;33m.\u001b[0m\u001b[0mget\u001b[0m\u001b[1;33m(\u001b[0m\u001b[0murl\u001b[0m\u001b[1;33m,\u001b[0m \u001b[0mparams\u001b[0m\u001b[1;33m=\u001b[0m\u001b[0mparams\u001b[0m\u001b[1;33m,\u001b[0m \u001b[0mverify\u001b[0m\u001b[1;33m=\u001b[0m\u001b[1;32mTrue\u001b[0m\u001b[1;33m,\u001b[0m \u001b[0mtimeout\u001b[0m\u001b[1;33m=\u001b[0m\u001b[0mTIMEOUT_IN_SECONDS\u001b[0m\u001b[1;33m)\u001b[0m\u001b[1;33m\u001b[0m\u001b[1;33m\u001b[0m\u001b[0m\n\u001b[1;32m--> 151\u001b[1;33m     \u001b[0mr\u001b[0m \u001b[1;33m=\u001b[0m \u001b[0mget_valid_json\u001b[0m\u001b[1;33m(\u001b[0m\u001b[0mr\u001b[0m\u001b[1;33m)\u001b[0m\u001b[1;33m\u001b[0m\u001b[1;33m\u001b[0m\u001b[0m\n\u001b[0m\u001b[0;32m    152\u001b[0m \u001b[1;33m\u001b[0m\u001b[0m\n\u001b[0;32m    153\u001b[0m     \u001b[1;32mreturn\u001b[0m \u001b[0m_clean_tx\u001b[0m\u001b[1;33m(\u001b[0m\u001b[0mresponse_dict\u001b[0m\u001b[1;33m=\u001b[0m\u001b[0mr\u001b[0m\u001b[1;33m)\u001b[0m\u001b[1;33m\u001b[0m\u001b[1;33m\u001b[0m\u001b[0m\n",
      "\u001b[1;32m~\\anaconda3\\lib\\site-packages\\blockcypher\\api.py\u001b[0m in \u001b[0;36mget_valid_json\u001b[1;34m(request, allow_204)\u001b[0m\n\u001b[0;32m     61\u001b[0m \u001b[1;32mdef\u001b[0m \u001b[0mget_valid_json\u001b[0m\u001b[1;33m(\u001b[0m\u001b[0mrequest\u001b[0m\u001b[1;33m,\u001b[0m \u001b[0mallow_204\u001b[0m\u001b[1;33m=\u001b[0m\u001b[1;32mFalse\u001b[0m\u001b[1;33m)\u001b[0m\u001b[1;33m:\u001b[0m\u001b[1;33m\u001b[0m\u001b[1;33m\u001b[0m\u001b[0m\n\u001b[0;32m     62\u001b[0m     \u001b[1;32mif\u001b[0m \u001b[0mrequest\u001b[0m\u001b[1;33m.\u001b[0m\u001b[0mstatus_code\u001b[0m \u001b[1;33m==\u001b[0m \u001b[1;36m429\u001b[0m\u001b[1;33m:\u001b[0m\u001b[1;33m\u001b[0m\u001b[1;33m\u001b[0m\u001b[0m\n\u001b[1;32m---> 63\u001b[1;33m         \u001b[1;32mraise\u001b[0m \u001b[0mRateLimitError\u001b[0m\u001b[1;33m(\u001b[0m\u001b[1;34m'Status Code 429'\u001b[0m\u001b[1;33m,\u001b[0m \u001b[0mrequest\u001b[0m\u001b[1;33m.\u001b[0m\u001b[0mtext\u001b[0m\u001b[1;33m)\u001b[0m\u001b[1;33m\u001b[0m\u001b[1;33m\u001b[0m\u001b[0m\n\u001b[0m\u001b[0;32m     64\u001b[0m     \u001b[1;32melif\u001b[0m \u001b[0mrequest\u001b[0m\u001b[1;33m.\u001b[0m\u001b[0mstatus_code\u001b[0m \u001b[1;33m==\u001b[0m \u001b[1;36m204\u001b[0m \u001b[1;32mand\u001b[0m \u001b[0mallow_204\u001b[0m\u001b[1;33m:\u001b[0m\u001b[1;33m\u001b[0m\u001b[1;33m\u001b[0m\u001b[0m\n\u001b[0;32m     65\u001b[0m         \u001b[1;32mreturn\u001b[0m \u001b[1;32mTrue\u001b[0m\u001b[1;33m\u001b[0m\u001b[1;33m\u001b[0m\u001b[0m\n",
      "\u001b[1;31mRateLimitError\u001b[0m: ('Status Code 429', '{\"error\": \"Limits reached.\"}\\n')"
     ]
    }
   ],
   "source": [
    "import blockcypher\n",
    "search_add = \"111K8kZAEnJg245r2cM6y9zgJGHZtJPy6\"\n",
    "g = Graph()\n",
    "g = analyze_address(search_add,g,2)\n",
    "\n",
    "    \n"
   ]
  },
  {
   "cell_type": "markdown",
   "metadata": {},
   "source": [
    "#### "
   ]
  },
  {
   "cell_type": "code",
   "execution_count": 91,
   "metadata": {},
   "outputs": [
    {
     "name": "stdout",
     "output_type": "stream",
     "text": [
      "{'111K8kZAEnJg245r2cM6y9zgJGHZtJPy6': ['16USe1BH4d4pfHjrNqsHwzqa1bYWbkkRiy'], '16USe1BH4d4pfHjrNqsHwzqa1bYWbkkRiy': ['111K8kZAEnJg245r2cM6y9zgJGHZtJPy6', '1FsPmxTL2Yy4aWH5J7XYWWqTMhordXAoMn'], '1FsPmxTL2Yy4aWH5J7XYWWqTMhordXAoMn': ['16USe1BH4d4pfHjrNqsHwzqa1bYWbkkRiy', '1JHi3u3Dsq6vng8egJVKsFKXWhwzmcU3FB', '1DSpthr8whhgXfPAHDwq4M9JJnGSXXg1DZ', '14QuqBN9VFA8Csr4QLdJUCgaZT8WVsPgZe', '1FNGkomYw1Sae3L8r81MiwG9FH2vHFzGDG'], '1JHi3u3Dsq6vng8egJVKsFKXWhwzmcU3FB': ['1FsPmxTL2Yy4aWH5J7XYWWqTMhordXAoMn', '19iEzyHzqA6NfPN1WdESyMjrZXQzTm1Tef'], '19iEzyHzqA6NfPN1WdESyMjrZXQzTm1Tef': ['1JHi3u3Dsq6vng8egJVKsFKXWhwzmcU3FB', '1FCtXcAh5xGfQdU7jDw4q7yBnxeUyvBBVq'], '1FCtXcAh5xGfQdU7jDw4q7yBnxeUyvBBVq': ['19iEzyHzqA6NfPN1WdESyMjrZXQzTm1Tef'], '1DSpthr8whhgXfPAHDwq4M9JJnGSXXg1DZ': ['1FsPmxTL2Yy4aWH5J7XYWWqTMhordXAoMn', '1GNeV9gqLvGvZq6rg7KgTBYn1d44KxFEdR'], '1GNeV9gqLvGvZq6rg7KgTBYn1d44KxFEdR': ['1DSpthr8whhgXfPAHDwq4M9JJnGSXXg1DZ', '3J7JbQMDyL2aFNUwUdSh75QByGxTatL9PC', '3AQ2rgVX3wjKosoeVLLU3CYwVRJa59opcH', '3FcatWJ6wtApcs6A6VRGBDFUhQoduXFhQS', '3Kc7GakpQ1R2KQn87zMVqeCtyfp76pVxJJ', '3NeEjN6tCCquY5webYbKGEVZYfvJas8p7Y', '3QHoWCHWrHBPmpiGjwNpfZG1pUfpb45d2B', '3D3eiUmP4E1x2GXBjiCFiKXUkJnWr9ULaf', '36DNzLpNyGDCdsMrzBLHagyf45k1aMBakv', '3MgAxSRWGyiJ9Wy7suML9uSFuuLFXKdHB2', '3NRTzt49fQ6DYtyPnv21dU8Qgj9PmZGuco'], '3J7JbQMDyL2aFNUwUdSh75QByGxTatL9PC': ['1GNeV9gqLvGvZq6rg7KgTBYn1d44KxFEdR'], '3AQ2rgVX3wjKosoeVLLU3CYwVRJa59opcH': ['1GNeV9gqLvGvZq6rg7KgTBYn1d44KxFEdR'], '3FcatWJ6wtApcs6A6VRGBDFUhQoduXFhQS': ['1GNeV9gqLvGvZq6rg7KgTBYn1d44KxFEdR'], '3Kc7GakpQ1R2KQn87zMVqeCtyfp76pVxJJ': ['1GNeV9gqLvGvZq6rg7KgTBYn1d44KxFEdR'], '3NeEjN6tCCquY5webYbKGEVZYfvJas8p7Y': ['1GNeV9gqLvGvZq6rg7KgTBYn1d44KxFEdR'], '3QHoWCHWrHBPmpiGjwNpfZG1pUfpb45d2B': ['1GNeV9gqLvGvZq6rg7KgTBYn1d44KxFEdR'], '3D3eiUmP4E1x2GXBjiCFiKXUkJnWr9ULaf': ['1GNeV9gqLvGvZq6rg7KgTBYn1d44KxFEdR'], '36DNzLpNyGDCdsMrzBLHagyf45k1aMBakv': ['1GNeV9gqLvGvZq6rg7KgTBYn1d44KxFEdR'], '3MgAxSRWGyiJ9Wy7suML9uSFuuLFXKdHB2': ['1GNeV9gqLvGvZq6rg7KgTBYn1d44KxFEdR'], '3NRTzt49fQ6DYtyPnv21dU8Qgj9PmZGuco': ['1GNeV9gqLvGvZq6rg7KgTBYn1d44KxFEdR'], '14QuqBN9VFA8Csr4QLdJUCgaZT8WVsPgZe': ['1FsPmxTL2Yy4aWH5J7XYWWqTMhordXAoMn', '1Px49QxskiiwEhvQDnCtHCLUTFCkGUx62D', '1D4V2meoTEUucWrbRnGitV2pX3xEXJoeX7', '1Bogsbfz3v5Rpwtr9H719VATMisfnb22xt'], '1Px49QxskiiwEhvQDnCtHCLUTFCkGUx62D': ['14QuqBN9VFA8Csr4QLdJUCgaZT8WVsPgZe', '1DYJ3Te3FCQNLYYnVkEj3JvZ15QNH27kog', '1Ny3TJ5RNvZnKpw4HeH6JnG4t5ZPoqFuvw', '19ftTwXT6kD1GdrcdyXootyoens6esNYZk', '1HNG52hnozgNGHxXB8cmZdSNtM5QiDHtAB', '139vN3ypkvLtd9y6dx8HM2D81v8Svo5Kv9'], '1DYJ3Te3FCQNLYYnVkEj3JvZ15QNH27kog': ['1Px49QxskiiwEhvQDnCtHCLUTFCkGUx62D'], '1Ny3TJ5RNvZnKpw4HeH6JnG4t5ZPoqFuvw': ['1Px49QxskiiwEhvQDnCtHCLUTFCkGUx62D'], '19ftTwXT6kD1GdrcdyXootyoens6esNYZk': ['1Px49QxskiiwEhvQDnCtHCLUTFCkGUx62D'], '1HNG52hnozgNGHxXB8cmZdSNtM5QiDHtAB': ['1Px49QxskiiwEhvQDnCtHCLUTFCkGUx62D'], '139vN3ypkvLtd9y6dx8HM2D81v8Svo5Kv9': ['1Px49QxskiiwEhvQDnCtHCLUTFCkGUx62D'], '1D4V2meoTEUucWrbRnGitV2pX3xEXJoeX7': ['14QuqBN9VFA8Csr4QLdJUCgaZT8WVsPgZe', '1PedEGzM9GyRfFaAAyp5VJycdpKbbL8w5p'], '1PedEGzM9GyRfFaAAyp5VJycdpKbbL8w5p': ['1D4V2meoTEUucWrbRnGitV2pX3xEXJoeX7'], '1Bogsbfz3v5Rpwtr9H719VATMisfnb22xt': ['14QuqBN9VFA8Csr4QLdJUCgaZT8WVsPgZe', '13s5Z4gbCJ5tN4D5KkFRP5xv8Lyx7U1RVB', '1FtV5SYN2Psvhv18gNRdAx6vcpYJzxiABc', '16Aq7VgYZGoiXHGLayJtMSvVe7tJyWTGD7'], '13s5Z4gbCJ5tN4D5KkFRP5xv8Lyx7U1RVB': ['1Bogsbfz3v5Rpwtr9H719VATMisfnb22xt'], '1FtV5SYN2Psvhv18gNRdAx6vcpYJzxiABc': ['1Bogsbfz3v5Rpwtr9H719VATMisfnb22xt'], '16Aq7VgYZGoiXHGLayJtMSvVe7tJyWTGD7': ['1Bogsbfz3v5Rpwtr9H719VATMisfnb22xt'], '1FNGkomYw1Sae3L8r81MiwG9FH2vHFzGDG': ['1FsPmxTL2Yy4aWH5J7XYWWqTMhordXAoMn', '1AjtmvKRY2SLEStFQ5cpQhD6Ay4NDFvLY8'], '1AjtmvKRY2SLEStFQ5cpQhD6Ay4NDFvLY8': ['1FNGkomYw1Sae3L8r81MiwG9FH2vHFzGDG']}\n"
     ]
    }
   ],
   "source": [
    "print(g.edges)"
   ]
  },
  {
   "cell_type": "code",
   "execution_count": 92,
   "metadata": {},
   "outputs": [
    {
     "name": "stdout",
     "output_type": "stream",
     "text": [
      "1FCtXcAh5xGfQdU7jDw4q7yBnxeUyvBBVq 19iEzyHzqA6NfPN1WdESyMjrZXQzTm1Tef 1JHi3u3Dsq6vng8egJVKsFKXWhwzmcU3FB 3J7JbQMDyL2aFNUwUdSh75QByGxTatL9PC 3AQ2rgVX3wjKosoeVLLU3CYwVRJa59opcH 3FcatWJ6wtApcs6A6VRGBDFUhQoduXFhQS 3Kc7GakpQ1R2KQn87zMVqeCtyfp76pVxJJ 3NeEjN6tCCquY5webYbKGEVZYfvJas8p7Y 3QHoWCHWrHBPmpiGjwNpfZG1pUfpb45d2B 3D3eiUmP4E1x2GXBjiCFiKXUkJnWr9ULaf 36DNzLpNyGDCdsMrzBLHagyf45k1aMBakv 3MgAxSRWGyiJ9Wy7suML9uSFuuLFXKdHB2 3NRTzt49fQ6DYtyPnv21dU8Qgj9PmZGuco 1GNeV9gqLvGvZq6rg7KgTBYn1d44KxFEdR 1DSpthr8whhgXfPAHDwq4M9JJnGSXXg1DZ 1DYJ3Te3FCQNLYYnVkEj3JvZ15QNH27kog 1Ny3TJ5RNvZnKpw4HeH6JnG4t5ZPoqFuvw 19ftTwXT6kD1GdrcdyXootyoens6esNYZk 1HNG52hnozgNGHxXB8cmZdSNtM5QiDHtAB 139vN3ypkvLtd9y6dx8HM2D81v8Svo5Kv9 1Px49QxskiiwEhvQDnCtHCLUTFCkGUx62D 1PedEGzM9GyRfFaAAyp5VJycdpKbbL8w5p 1D4V2meoTEUucWrbRnGitV2pX3xEXJoeX7 13s5Z4gbCJ5tN4D5KkFRP5xv8Lyx7U1RVB 1FtV5SYN2Psvhv18gNRdAx6vcpYJzxiABc 16Aq7VgYZGoiXHGLayJtMSvVe7tJyWTGD7 1Bogsbfz3v5Rpwtr9H719VATMisfnb22xt 14QuqBN9VFA8Csr4QLdJUCgaZT8WVsPgZe 1AjtmvKRY2SLEStFQ5cpQhD6Ay4NDFvLY8 1FNGkomYw1Sae3L8r81MiwG9FH2vHFzGDG 1FsPmxTL2Yy4aWH5J7XYWWqTMhordXAoMn 16USe1BH4d4pfHjrNqsHwzqa1bYWbkkRiy 111K8kZAEnJg245r2cM6y9zgJGHZtJPy6 "
     ]
    }
   ],
   "source": [
    "g.DFS_Main(search_add)"
   ]
  },
  {
   "cell_type": "code",
   "execution_count": null,
   "metadata": {},
   "outputs": [],
   "source": []
  }
 ],
 "metadata": {
  "kernelspec": {
   "display_name": "Python 3",
   "language": "python",
   "name": "python3"
  },
  "language_info": {
   "codemirror_mode": {
    "name": "ipython",
    "version": 3
   },
   "file_extension": ".py",
   "mimetype": "text/x-python",
   "name": "python",
   "nbconvert_exporter": "python",
   "pygments_lexer": "ipython3",
   "version": "3.8.5"
  }
 },
 "nbformat": 4,
 "nbformat_minor": 4
}
