{
  "nbformat": 4,
  "nbformat_minor": 0,
  "metadata": {
    "kernelspec": {
      "language": "python",
      "display_name": "Python 3",
      "name": "python3"
    },
    "language_info": {
      "name": "python",
      "version": "3.7.10",
      "mimetype": "text/x-python",
      "codemirror_mode": {
        "name": "ipython",
        "version": 3
      },
      "pygments_lexer": "ipython3",
      "nbconvert_exporter": "python",
      "file_extension": ".py"
    },
    "colab": {
      "name": "ethereum-fraud-analysis (1).ipynb",
      "provenance": []
    }
  },
  "cells": [
    {
      "cell_type": "markdown",
      "metadata": {
        "id": "FMO_y8r6azs9"
      },
      "source": [
        "# Importing"
      ]
    },
    {
      "cell_type": "code",
      "metadata": {
        "id": "Io6xLOCJaeRo"
      },
      "source": [
        "import numpy as np\n",
        "import pandas as pd\n",
        "\n",
        "from google.colab import drive\n",
        "\n",
        "import pickle"
      ],
      "execution_count": 1,
      "outputs": []
    },
    {
      "cell_type": "markdown",
      "metadata": {
        "id": "kWjkViEpa14f"
      },
      "source": [
        "# Getting the files ready"
      ]
    },
    {
      "cell_type": "code",
      "metadata": {
        "colab": {
          "base_uri": "https://localhost:8080/"
        },
        "id": "e91c_ePeaynI",
        "outputId": "c7837f23-e118-4e51-d8b5-b59e28d12d95"
      },
      "source": [
        "!pwd"
      ],
      "execution_count": 2,
      "outputs": [
        {
          "output_type": "stream",
          "name": "stdout",
          "text": [
            "/content\n"
          ]
        }
      ]
    },
    {
      "cell_type": "code",
      "metadata": {
        "colab": {
          "base_uri": "https://localhost:8080/"
        },
        "id": "W5N7dXhYaway",
        "outputId": "fd520941-9bae-4100-e355-8d0d66f76071"
      },
      "source": [
        "drive.mount(\"/content/gdrive\")"
      ],
      "execution_count": 3,
      "outputs": [
        {
          "output_type": "stream",
          "name": "stdout",
          "text": [
            "Mounted at /content/gdrive\n"
          ]
        }
      ]
    },
    {
      "cell_type": "code",
      "metadata": {
        "colab": {
          "base_uri": "https://localhost:8080/"
        },
        "id": "eFhKI_x2bBcE",
        "outputId": "6dc59ed7-2050-479e-b7ce-8613678c9e9b"
      },
      "source": [
        "!ls gdrive/MyDrive/DACybSec/project/data"
      ],
      "execution_count": 4,
      "outputs": [
        {
          "output_type": "stream",
          "name": "stdout",
          "text": [
            "'BitcoinHeistData 2.csv'   transaction_dataset.csv\n"
          ]
        }
      ]
    },
    {
      "cell_type": "code",
      "metadata": {
        "id": "LADBzeT3boAD"
      },
      "source": [
        "data_root_dir = \"gdrive/MyDrive/DACybSec/project/data/\""
      ],
      "execution_count": 5,
      "outputs": []
    },
    {
      "cell_type": "markdown",
      "metadata": {
        "id": "0MFeMVc1bsKd"
      },
      "source": [
        "# Loading the dataset"
      ]
    },
    {
      "cell_type": "code",
      "metadata": {
        "execution": {
          "iopub.status.busy": "2021-11-16T17:43:13.168917Z",
          "iopub.execute_input": "2021-11-16T17:43:13.169139Z",
          "iopub.status.idle": "2021-11-16T17:43:13.289454Z",
          "shell.execute_reply.started": "2021-11-16T17:43:13.169112Z",
          "shell.execute_reply": "2021-11-16T17:43:13.288694Z"
        },
        "trusted": true,
        "id": "AtEkfFFeabVr"
      },
      "source": [
        "df = pd.read_csv(data_root_dir + 'transaction_dataset.csv')"
      ],
      "execution_count": 6,
      "outputs": []
    },
    {
      "cell_type": "code",
      "metadata": {
        "execution": {
          "iopub.status.busy": "2021-11-16T17:43:13.290662Z",
          "iopub.execute_input": "2021-11-16T17:43:13.291184Z",
          "iopub.status.idle": "2021-11-16T17:43:13.314021Z",
          "shell.execute_reply.started": "2021-11-16T17:43:13.291127Z",
          "shell.execute_reply": "2021-11-16T17:43:13.313257Z"
        },
        "trusted": true,
        "id": "CZmGVTrPabVr"
      },
      "source": [
        "df.drop('Unnamed: 0', axis = 1, inplace=True)\n",
        "df.drop('Index', axis = 1, inplace=True)"
      ],
      "execution_count": 7,
      "outputs": []
    },
    {
      "cell_type": "code",
      "metadata": {
        "execution": {
          "iopub.status.busy": "2021-11-16T17:43:13.315990Z",
          "iopub.execute_input": "2021-11-16T17:43:13.316528Z",
          "iopub.status.idle": "2021-11-16T17:43:13.352093Z",
          "shell.execute_reply.started": "2021-11-16T17:43:13.316495Z",
          "shell.execute_reply": "2021-11-16T17:43:13.351442Z"
        },
        "trusted": true,
        "colab": {
          "base_uri": "https://localhost:8080/",
          "height": 330
        },
        "id": "qc9QNI5IabVr",
        "outputId": "ba22b433-6fdf-44f3-c7d7-a361b10b849a"
      },
      "source": [
        "df.head()"
      ],
      "execution_count": 8,
      "outputs": [
        {
          "output_type": "execute_result",
          "data": {
            "text/html": [
              "<div>\n",
              "<style scoped>\n",
              "    .dataframe tbody tr th:only-of-type {\n",
              "        vertical-align: middle;\n",
              "    }\n",
              "\n",
              "    .dataframe tbody tr th {\n",
              "        vertical-align: top;\n",
              "    }\n",
              "\n",
              "    .dataframe thead th {\n",
              "        text-align: right;\n",
              "    }\n",
              "</style>\n",
              "<table border=\"1\" class=\"dataframe\">\n",
              "  <thead>\n",
              "    <tr style=\"text-align: right;\">\n",
              "      <th></th>\n",
              "      <th>Address</th>\n",
              "      <th>FLAG</th>\n",
              "      <th>Avg min between sent tnx</th>\n",
              "      <th>Avg min between received tnx</th>\n",
              "      <th>Time Diff between first and last (Mins)</th>\n",
              "      <th>Sent tnx</th>\n",
              "      <th>Received Tnx</th>\n",
              "      <th>Number of Created Contracts</th>\n",
              "      <th>Unique Received From Addresses</th>\n",
              "      <th>Unique Sent To Addresses</th>\n",
              "      <th>min value received</th>\n",
              "      <th>max value received</th>\n",
              "      <th>avg val received</th>\n",
              "      <th>min val sent</th>\n",
              "      <th>max val sent</th>\n",
              "      <th>avg val sent</th>\n",
              "      <th>min value sent to contract</th>\n",
              "      <th>max val sent to contract</th>\n",
              "      <th>avg value sent to contract</th>\n",
              "      <th>total transactions (including tnx to create contract</th>\n",
              "      <th>total Ether sent</th>\n",
              "      <th>total ether received</th>\n",
              "      <th>total ether sent contracts</th>\n",
              "      <th>total ether balance</th>\n",
              "      <th>Total ERC20 tnxs</th>\n",
              "      <th>ERC20 total Ether received</th>\n",
              "      <th>ERC20 total ether sent</th>\n",
              "      <th>ERC20 total Ether sent contract</th>\n",
              "      <th>ERC20 uniq sent addr</th>\n",
              "      <th>ERC20 uniq rec addr</th>\n",
              "      <th>ERC20 uniq sent addr.1</th>\n",
              "      <th>ERC20 uniq rec contract addr</th>\n",
              "      <th>ERC20 avg time between sent tnx</th>\n",
              "      <th>ERC20 avg time between rec tnx</th>\n",
              "      <th>ERC20 avg time between rec 2 tnx</th>\n",
              "      <th>ERC20 avg time between contract tnx</th>\n",
              "      <th>ERC20 min val rec</th>\n",
              "      <th>ERC20 max val rec</th>\n",
              "      <th>ERC20 avg val rec</th>\n",
              "      <th>ERC20 min val sent</th>\n",
              "      <th>ERC20 max val sent</th>\n",
              "      <th>ERC20 avg val sent</th>\n",
              "      <th>ERC20 min val sent contract</th>\n",
              "      <th>ERC20 max val sent contract</th>\n",
              "      <th>ERC20 avg val sent contract</th>\n",
              "      <th>ERC20 uniq sent token name</th>\n",
              "      <th>ERC20 uniq rec token name</th>\n",
              "      <th>ERC20 most sent token type</th>\n",
              "      <th>ERC20_most_rec_token_type</th>\n",
              "    </tr>\n",
              "  </thead>\n",
              "  <tbody>\n",
              "    <tr>\n",
              "      <th>0</th>\n",
              "      <td>0x00009277775ac7d0d59eaad8fee3d10ac6c805e8</td>\n",
              "      <td>0</td>\n",
              "      <td>844.26</td>\n",
              "      <td>1093.71</td>\n",
              "      <td>704785.63</td>\n",
              "      <td>721</td>\n",
              "      <td>89</td>\n",
              "      <td>0</td>\n",
              "      <td>40</td>\n",
              "      <td>118</td>\n",
              "      <td>0.000000</td>\n",
              "      <td>45.806785</td>\n",
              "      <td>6.589513</td>\n",
              "      <td>0.00</td>\n",
              "      <td>31.220000</td>\n",
              "      <td>1.200681</td>\n",
              "      <td>0.0</td>\n",
              "      <td>0.0</td>\n",
              "      <td>0.0</td>\n",
              "      <td>810</td>\n",
              "      <td>865.691093</td>\n",
              "      <td>586.466675</td>\n",
              "      <td>0.0</td>\n",
              "      <td>-279.224419</td>\n",
              "      <td>265.0</td>\n",
              "      <td>3.558854e+07</td>\n",
              "      <td>3.560317e+07</td>\n",
              "      <td>0.0</td>\n",
              "      <td>30.0</td>\n",
              "      <td>54.0</td>\n",
              "      <td>0.0</td>\n",
              "      <td>58.0</td>\n",
              "      <td>0.0</td>\n",
              "      <td>0.0</td>\n",
              "      <td>0.0</td>\n",
              "      <td>0.0</td>\n",
              "      <td>0.0</td>\n",
              "      <td>1.500000e+07</td>\n",
              "      <td>265586.147600</td>\n",
              "      <td>0.000000</td>\n",
              "      <td>1.683100e+07</td>\n",
              "      <td>271779.920000</td>\n",
              "      <td>0.0</td>\n",
              "      <td>0.0</td>\n",
              "      <td>0.0</td>\n",
              "      <td>39.0</td>\n",
              "      <td>57.0</td>\n",
              "      <td>Cofoundit</td>\n",
              "      <td>Numeraire</td>\n",
              "    </tr>\n",
              "    <tr>\n",
              "      <th>1</th>\n",
              "      <td>0x0002b44ddb1476db43c868bd494422ee4c136fed</td>\n",
              "      <td>0</td>\n",
              "      <td>12709.07</td>\n",
              "      <td>2958.44</td>\n",
              "      <td>1218216.73</td>\n",
              "      <td>94</td>\n",
              "      <td>8</td>\n",
              "      <td>0</td>\n",
              "      <td>5</td>\n",
              "      <td>14</td>\n",
              "      <td>0.000000</td>\n",
              "      <td>2.613269</td>\n",
              "      <td>0.385685</td>\n",
              "      <td>0.00</td>\n",
              "      <td>1.800000</td>\n",
              "      <td>0.032844</td>\n",
              "      <td>0.0</td>\n",
              "      <td>0.0</td>\n",
              "      <td>0.0</td>\n",
              "      <td>102</td>\n",
              "      <td>3.087297</td>\n",
              "      <td>3.085478</td>\n",
              "      <td>0.0</td>\n",
              "      <td>-0.001819</td>\n",
              "      <td>8.0</td>\n",
              "      <td>4.034283e+02</td>\n",
              "      <td>2.260809e+00</td>\n",
              "      <td>0.0</td>\n",
              "      <td>1.0</td>\n",
              "      <td>5.0</td>\n",
              "      <td>0.0</td>\n",
              "      <td>7.0</td>\n",
              "      <td>0.0</td>\n",
              "      <td>0.0</td>\n",
              "      <td>0.0</td>\n",
              "      <td>0.0</td>\n",
              "      <td>0.0</td>\n",
              "      <td>3.650000e+02</td>\n",
              "      <td>57.632615</td>\n",
              "      <td>2.260809</td>\n",
              "      <td>2.260809e+00</td>\n",
              "      <td>2.260809</td>\n",
              "      <td>0.0</td>\n",
              "      <td>0.0</td>\n",
              "      <td>0.0</td>\n",
              "      <td>1.0</td>\n",
              "      <td>7.0</td>\n",
              "      <td>Livepeer Token</td>\n",
              "      <td>Livepeer Token</td>\n",
              "    </tr>\n",
              "    <tr>\n",
              "      <th>2</th>\n",
              "      <td>0x0002bda54cb772d040f779e88eb453cac0daa244</td>\n",
              "      <td>0</td>\n",
              "      <td>246194.54</td>\n",
              "      <td>2434.02</td>\n",
              "      <td>516729.30</td>\n",
              "      <td>2</td>\n",
              "      <td>10</td>\n",
              "      <td>0</td>\n",
              "      <td>10</td>\n",
              "      <td>2</td>\n",
              "      <td>0.113119</td>\n",
              "      <td>1.165453</td>\n",
              "      <td>0.358906</td>\n",
              "      <td>0.05</td>\n",
              "      <td>3.538616</td>\n",
              "      <td>1.794308</td>\n",
              "      <td>0.0</td>\n",
              "      <td>0.0</td>\n",
              "      <td>0.0</td>\n",
              "      <td>12</td>\n",
              "      <td>3.588616</td>\n",
              "      <td>3.589057</td>\n",
              "      <td>0.0</td>\n",
              "      <td>0.000441</td>\n",
              "      <td>8.0</td>\n",
              "      <td>5.215121e+02</td>\n",
              "      <td>0.000000e+00</td>\n",
              "      <td>0.0</td>\n",
              "      <td>0.0</td>\n",
              "      <td>7.0</td>\n",
              "      <td>0.0</td>\n",
              "      <td>8.0</td>\n",
              "      <td>0.0</td>\n",
              "      <td>0.0</td>\n",
              "      <td>0.0</td>\n",
              "      <td>0.0</td>\n",
              "      <td>0.0</td>\n",
              "      <td>4.428198e+02</td>\n",
              "      <td>65.189009</td>\n",
              "      <td>0.000000</td>\n",
              "      <td>0.000000e+00</td>\n",
              "      <td>0.000000</td>\n",
              "      <td>0.0</td>\n",
              "      <td>0.0</td>\n",
              "      <td>0.0</td>\n",
              "      <td>0.0</td>\n",
              "      <td>8.0</td>\n",
              "      <td>None</td>\n",
              "      <td>XENON</td>\n",
              "    </tr>\n",
              "    <tr>\n",
              "      <th>3</th>\n",
              "      <td>0x00038e6ba2fd5c09aedb96697c8d7b8fa6632e5e</td>\n",
              "      <td>0</td>\n",
              "      <td>10219.60</td>\n",
              "      <td>15785.09</td>\n",
              "      <td>397555.90</td>\n",
              "      <td>25</td>\n",
              "      <td>9</td>\n",
              "      <td>0</td>\n",
              "      <td>7</td>\n",
              "      <td>13</td>\n",
              "      <td>0.000000</td>\n",
              "      <td>500.000000</td>\n",
              "      <td>99.488840</td>\n",
              "      <td>0.00</td>\n",
              "      <td>450.000000</td>\n",
              "      <td>70.001834</td>\n",
              "      <td>0.0</td>\n",
              "      <td>0.0</td>\n",
              "      <td>0.0</td>\n",
              "      <td>34</td>\n",
              "      <td>1750.045862</td>\n",
              "      <td>895.399559</td>\n",
              "      <td>0.0</td>\n",
              "      <td>-854.646303</td>\n",
              "      <td>14.0</td>\n",
              "      <td>1.711105e+04</td>\n",
              "      <td>1.141223e+04</td>\n",
              "      <td>0.0</td>\n",
              "      <td>2.0</td>\n",
              "      <td>11.0</td>\n",
              "      <td>0.0</td>\n",
              "      <td>11.0</td>\n",
              "      <td>0.0</td>\n",
              "      <td>0.0</td>\n",
              "      <td>0.0</td>\n",
              "      <td>0.0</td>\n",
              "      <td>0.0</td>\n",
              "      <td>1.141223e+04</td>\n",
              "      <td>1555.550174</td>\n",
              "      <td>100.000000</td>\n",
              "      <td>9.029231e+03</td>\n",
              "      <td>3804.076893</td>\n",
              "      <td>0.0</td>\n",
              "      <td>0.0</td>\n",
              "      <td>0.0</td>\n",
              "      <td>1.0</td>\n",
              "      <td>11.0</td>\n",
              "      <td>Raiden</td>\n",
              "      <td>XENON</td>\n",
              "    </tr>\n",
              "    <tr>\n",
              "      <th>4</th>\n",
              "      <td>0x00062d1dd1afb6fb02540ddad9cdebfe568e0d89</td>\n",
              "      <td>0</td>\n",
              "      <td>36.61</td>\n",
              "      <td>10707.77</td>\n",
              "      <td>382472.42</td>\n",
              "      <td>4598</td>\n",
              "      <td>20</td>\n",
              "      <td>1</td>\n",
              "      <td>7</td>\n",
              "      <td>19</td>\n",
              "      <td>0.000000</td>\n",
              "      <td>12.802411</td>\n",
              "      <td>2.671095</td>\n",
              "      <td>0.00</td>\n",
              "      <td>9.000000</td>\n",
              "      <td>0.022688</td>\n",
              "      <td>0.0</td>\n",
              "      <td>0.0</td>\n",
              "      <td>0.0</td>\n",
              "      <td>4619</td>\n",
              "      <td>104.318883</td>\n",
              "      <td>53.421896</td>\n",
              "      <td>0.0</td>\n",
              "      <td>-50.896986</td>\n",
              "      <td>42.0</td>\n",
              "      <td>1.628297e+05</td>\n",
              "      <td>1.235399e+05</td>\n",
              "      <td>0.0</td>\n",
              "      <td>4.0</td>\n",
              "      <td>23.0</td>\n",
              "      <td>0.0</td>\n",
              "      <td>27.0</td>\n",
              "      <td>0.0</td>\n",
              "      <td>0.0</td>\n",
              "      <td>0.0</td>\n",
              "      <td>0.0</td>\n",
              "      <td>0.0</td>\n",
              "      <td>9.000000e+04</td>\n",
              "      <td>4934.232147</td>\n",
              "      <td>0.000000</td>\n",
              "      <td>4.500000e+04</td>\n",
              "      <td>13726.659220</td>\n",
              "      <td>0.0</td>\n",
              "      <td>0.0</td>\n",
              "      <td>0.0</td>\n",
              "      <td>6.0</td>\n",
              "      <td>27.0</td>\n",
              "      <td>StatusNetwork</td>\n",
              "      <td>EOS</td>\n",
              "    </tr>\n",
              "  </tbody>\n",
              "</table>\n",
              "</div>"
            ],
            "text/plain": [
              "                                      Address  ...   ERC20_most_rec_token_type\n",
              "0  0x00009277775ac7d0d59eaad8fee3d10ac6c805e8  ...                   Numeraire\n",
              "1  0x0002b44ddb1476db43c868bd494422ee4c136fed  ...              Livepeer Token\n",
              "2  0x0002bda54cb772d040f779e88eb453cac0daa244  ...                       XENON\n",
              "3  0x00038e6ba2fd5c09aedb96697c8d7b8fa6632e5e  ...                       XENON\n",
              "4  0x00062d1dd1afb6fb02540ddad9cdebfe568e0d89  ...                         EOS\n",
              "\n",
              "[5 rows x 49 columns]"
            ]
          },
          "metadata": {},
          "execution_count": 8
        }
      ]
    },
    {
      "cell_type": "code",
      "metadata": {
        "execution": {
          "iopub.status.busy": "2021-11-16T17:43:13.353417Z",
          "iopub.execute_input": "2021-11-16T17:43:13.353624Z",
          "iopub.status.idle": "2021-11-16T17:43:13.359112Z",
          "shell.execute_reply.started": "2021-11-16T17:43:13.353600Z",
          "shell.execute_reply": "2021-11-16T17:43:13.358520Z"
        },
        "trusted": true,
        "colab": {
          "base_uri": "https://localhost:8080/"
        },
        "id": "07MbH8-KabVs",
        "outputId": "dd8be644-1d00-404a-db1b-a37f4a8c6180"
      },
      "source": [
        "cols = list(df.columns)\n",
        "cols"
      ],
      "execution_count": 9,
      "outputs": [
        {
          "output_type": "execute_result",
          "data": {
            "text/plain": [
              "['Address',\n",
              " 'FLAG',\n",
              " 'Avg min between sent tnx',\n",
              " 'Avg min between received tnx',\n",
              " 'Time Diff between first and last (Mins)',\n",
              " 'Sent tnx',\n",
              " 'Received Tnx',\n",
              " 'Number of Created Contracts',\n",
              " 'Unique Received From Addresses',\n",
              " 'Unique Sent To Addresses',\n",
              " 'min value received',\n",
              " 'max value received ',\n",
              " 'avg val received',\n",
              " 'min val sent',\n",
              " 'max val sent',\n",
              " 'avg val sent',\n",
              " 'min value sent to contract',\n",
              " 'max val sent to contract',\n",
              " 'avg value sent to contract',\n",
              " 'total transactions (including tnx to create contract',\n",
              " 'total Ether sent',\n",
              " 'total ether received',\n",
              " 'total ether sent contracts',\n",
              " 'total ether balance',\n",
              " ' Total ERC20 tnxs',\n",
              " ' ERC20 total Ether received',\n",
              " ' ERC20 total ether sent',\n",
              " ' ERC20 total Ether sent contract',\n",
              " ' ERC20 uniq sent addr',\n",
              " ' ERC20 uniq rec addr',\n",
              " ' ERC20 uniq sent addr.1',\n",
              " ' ERC20 uniq rec contract addr',\n",
              " ' ERC20 avg time between sent tnx',\n",
              " ' ERC20 avg time between rec tnx',\n",
              " ' ERC20 avg time between rec 2 tnx',\n",
              " ' ERC20 avg time between contract tnx',\n",
              " ' ERC20 min val rec',\n",
              " ' ERC20 max val rec',\n",
              " ' ERC20 avg val rec',\n",
              " ' ERC20 min val sent',\n",
              " ' ERC20 max val sent',\n",
              " ' ERC20 avg val sent',\n",
              " ' ERC20 min val sent contract',\n",
              " ' ERC20 max val sent contract',\n",
              " ' ERC20 avg val sent contract',\n",
              " ' ERC20 uniq sent token name',\n",
              " ' ERC20 uniq rec token name',\n",
              " ' ERC20 most sent token type',\n",
              " ' ERC20_most_rec_token_type']"
            ]
          },
          "metadata": {},
          "execution_count": 9
        }
      ]
    },
    {
      "cell_type": "markdown",
      "metadata": {
        "id": "R3sdRUVaabVs"
      },
      "source": [
        "# Exploring the ETH addresses"
      ]
    },
    {
      "cell_type": "code",
      "metadata": {
        "execution": {
          "iopub.status.busy": "2021-11-16T17:43:13.360124Z",
          "iopub.execute_input": "2021-11-16T17:43:13.360486Z",
          "iopub.status.idle": "2021-11-16T17:43:13.373999Z",
          "shell.execute_reply.started": "2021-11-16T17:43:13.360459Z",
          "shell.execute_reply": "2021-11-16T17:43:13.372937Z"
        },
        "trusted": true,
        "colab": {
          "base_uri": "https://localhost:8080/"
        },
        "id": "GSCbHQ9vabVs",
        "outputId": "22a09bc1-9f9b-438a-e700-d22a9da9d55d"
      },
      "source": [
        "len(df)"
      ],
      "execution_count": 10,
      "outputs": [
        {
          "output_type": "execute_result",
          "data": {
            "text/plain": [
              "9841"
            ]
          },
          "metadata": {},
          "execution_count": 10
        }
      ]
    },
    {
      "cell_type": "code",
      "metadata": {
        "execution": {
          "iopub.status.busy": "2021-11-16T17:43:13.375554Z",
          "iopub.execute_input": "2021-11-16T17:43:13.376041Z",
          "iopub.status.idle": "2021-11-16T17:43:13.390217Z",
          "shell.execute_reply.started": "2021-11-16T17:43:13.375999Z",
          "shell.execute_reply": "2021-11-16T17:43:13.389230Z"
        },
        "trusted": true,
        "colab": {
          "base_uri": "https://localhost:8080/"
        },
        "id": "HjF1x2FxabVt",
        "outputId": "abe280a7-c100-4548-a49c-5929faef3ec1"
      },
      "source": [
        "len(df['Address'].unique())"
      ],
      "execution_count": 11,
      "outputs": [
        {
          "output_type": "execute_result",
          "data": {
            "text/plain": [
              "9816"
            ]
          },
          "metadata": {},
          "execution_count": 11
        }
      ]
    },
    {
      "cell_type": "markdown",
      "metadata": {
        "id": "bd3-75EtabVt"
      },
      "source": [
        "### Percentage of the addresses that are unique (Have only 1 entry in the data)"
      ]
    },
    {
      "cell_type": "code",
      "metadata": {
        "execution": {
          "iopub.status.busy": "2021-11-16T17:43:13.391961Z",
          "iopub.execute_input": "2021-11-16T17:43:13.392322Z",
          "iopub.status.idle": "2021-11-16T17:43:13.402392Z",
          "shell.execute_reply.started": "2021-11-16T17:43:13.392279Z",
          "shell.execute_reply": "2021-11-16T17:43:13.401666Z"
        },
        "trusted": true,
        "colab": {
          "base_uri": "https://localhost:8080/"
        },
        "id": "tZxssJ1eabVu",
        "outputId": "692bb2bc-18cf-4836-c035-6ea05e6e1a71"
      },
      "source": [
        "(len(df['Address'].unique()) / len(df)) * 100"
      ],
      "execution_count": 12,
      "outputs": [
        {
          "output_type": "execute_result",
          "data": {
            "text/plain": [
              "99.74596077634386"
            ]
          },
          "metadata": {},
          "execution_count": 12
        }
      ]
    },
    {
      "cell_type": "markdown",
      "metadata": {
        "id": "OZmkgqeeabVu"
      },
      "source": [
        "#### So, what's different in the addresses that have a repeat?"
      ]
    },
    {
      "cell_type": "code",
      "metadata": {
        "execution": {
          "iopub.status.busy": "2021-11-16T17:43:13.403320Z",
          "iopub.execute_input": "2021-11-16T17:43:13.404119Z",
          "iopub.status.idle": "2021-11-16T17:43:23.208084Z",
          "shell.execute_reply.started": "2021-11-16T17:43:13.404071Z",
          "shell.execute_reply": "2021-11-16T17:43:23.207286Z"
        },
        "trusted": true,
        "id": "FVAreQa5abVu"
      },
      "source": [
        "repeated_addresses = []\n",
        "for address in df['Address'].unique():\n",
        "    if(len(df[df['Address'] == address]) != 1):\n",
        "        repeated_addresses.append(address)"
      ],
      "execution_count": 13,
      "outputs": []
    },
    {
      "cell_type": "code",
      "metadata": {
        "execution": {
          "iopub.status.busy": "2021-11-16T17:43:23.210514Z",
          "iopub.execute_input": "2021-11-16T17:43:23.210828Z",
          "iopub.status.idle": "2021-11-16T17:43:23.219352Z",
          "shell.execute_reply.started": "2021-11-16T17:43:23.210792Z",
          "shell.execute_reply": "2021-11-16T17:43:23.218200Z"
        },
        "trusted": true,
        "id": "vm07PHfZabVv"
      },
      "source": [
        "repeated_addresses_df = df[df['Address'].isin(repeated_addresses)]"
      ],
      "execution_count": 14,
      "outputs": []
    },
    {
      "cell_type": "code",
      "metadata": {
        "execution": {
          "iopub.status.busy": "2021-11-16T17:43:23.220522Z",
          "iopub.execute_input": "2021-11-16T17:43:23.220765Z",
          "iopub.status.idle": "2021-11-16T17:43:24.788724Z",
          "shell.execute_reply.started": "2021-11-16T17:43:23.220727Z",
          "shell.execute_reply": "2021-11-16T17:43:24.787900Z"
        },
        "trusted": true,
        "colab": {
          "base_uri": "https://localhost:8080/"
        },
        "id": "QBjlfp2SabVv",
        "outputId": "2c06e546-abbf-444b-80ef-7bfcec995263"
      },
      "source": [
        "repeated_addresses_df[repeated_addresses_df['Address'] == '0x4c13f6966dc24c92489344f0fd6f0e61f3489b84']\n",
        "cols_with_different_vals = []\n",
        "no_repeat_address = []\n",
        "max_n_repeats = 0\n",
        "for address in repeated_addresses_df['Address']:\n",
        "    if(len(repeated_addresses_df[repeated_addresses_df['Address'] == address]) > max_n_repeats):\n",
        "        max_n_repeats = len(repeated_addresses_df[repeated_addresses_df['Address'] == address])\n",
        "        \n",
        "    n_repeats = 0\n",
        "    for col in cols:\n",
        "        in_focus = repeated_addresses_df[repeated_addresses_df['Address'] == address]\n",
        "        if(in_focus.iloc[0][col] != in_focus.iloc[1][col]):\n",
        "            cols_with_different_vals.append(col)\n",
        "            n_repeats += 1\n",
        "            \n",
        "    if(n_repeats == 0):\n",
        "        no_repeat_address.append(address)\n",
        "        \n",
        "list(set(cols_with_different_vals))"
      ],
      "execution_count": 15,
      "outputs": [
        {
          "output_type": "execute_result",
          "data": {
            "text/plain": [
              "[' ERC20 most sent token type', ' ERC20_most_rec_token_type']"
            ]
          },
          "metadata": {},
          "execution_count": 15
        }
      ]
    },
    {
      "cell_type": "code",
      "metadata": {
        "execution": {
          "iopub.status.busy": "2021-11-16T17:43:24.790016Z",
          "iopub.execute_input": "2021-11-16T17:43:24.790337Z",
          "iopub.status.idle": "2021-11-16T17:43:24.800821Z",
          "shell.execute_reply.started": "2021-11-16T17:43:24.790295Z",
          "shell.execute_reply": "2021-11-16T17:43:24.800032Z"
        },
        "trusted": true,
        "colab": {
          "base_uri": "https://localhost:8080/"
        },
        "id": "SNollnXbabVv",
        "outputId": "5260303c-96aa-443e-96bf-379f9924d14d"
      },
      "source": [
        "(df.drop('Address', axis=1))['FLAG'].unique()"
      ],
      "execution_count": 16,
      "outputs": [
        {
          "output_type": "execute_result",
          "data": {
            "text/plain": [
              "array([0, 1])"
            ]
          },
          "metadata": {},
          "execution_count": 16
        }
      ]
    },
    {
      "cell_type": "code",
      "metadata": {
        "execution": {
          "iopub.status.busy": "2021-11-16T17:43:24.802095Z",
          "iopub.execute_input": "2021-11-16T17:43:24.802470Z",
          "iopub.status.idle": "2021-11-16T17:43:24.814137Z",
          "shell.execute_reply.started": "2021-11-16T17:43:24.802441Z",
          "shell.execute_reply": "2021-11-16T17:43:24.813100Z"
        },
        "trusted": true,
        "colab": {
          "base_uri": "https://localhost:8080/"
        },
        "id": "9R5Zys37abVv",
        "outputId": "8ac9beed-cd5e-4755-ffe9-f3e511d35851"
      },
      "source": [
        "len(df[df['FLAG'] == 1])"
      ],
      "execution_count": 17,
      "outputs": [
        {
          "output_type": "execute_result",
          "data": {
            "text/plain": [
              "2179"
            ]
          },
          "metadata": {},
          "execution_count": 17
        }
      ]
    },
    {
      "cell_type": "code",
      "metadata": {
        "execution": {
          "iopub.status.busy": "2021-11-16T17:43:24.815349Z",
          "iopub.execute_input": "2021-11-16T17:43:24.816045Z",
          "iopub.status.idle": "2021-11-16T17:43:24.833719Z",
          "shell.execute_reply.started": "2021-11-16T17:43:24.816003Z",
          "shell.execute_reply": "2021-11-16T17:43:24.832612Z"
        },
        "trusted": true,
        "colab": {
          "base_uri": "https://localhost:8080/"
        },
        "id": "A-SCPgG0abVv",
        "outputId": "30d8847f-d000-4aac-a69d-189b860122a1"
      },
      "source": [
        "df.dtypes"
      ],
      "execution_count": 18,
      "outputs": [
        {
          "output_type": "execute_result",
          "data": {
            "text/plain": [
              "Address                                                  object\n",
              "FLAG                                                      int64\n",
              "Avg min between sent tnx                                float64\n",
              "Avg min between received tnx                            float64\n",
              "Time Diff between first and last (Mins)                 float64\n",
              "Sent tnx                                                  int64\n",
              "Received Tnx                                              int64\n",
              "Number of Created Contracts                               int64\n",
              "Unique Received From Addresses                            int64\n",
              "Unique Sent To Addresses                                  int64\n",
              "min value received                                      float64\n",
              "max value received                                      float64\n",
              "avg val received                                        float64\n",
              "min val sent                                            float64\n",
              "max val sent                                            float64\n",
              "avg val sent                                            float64\n",
              "min value sent to contract                              float64\n",
              "max val sent to contract                                float64\n",
              "avg value sent to contract                              float64\n",
              "total transactions (including tnx to create contract      int64\n",
              "total Ether sent                                        float64\n",
              "total ether received                                    float64\n",
              "total ether sent contracts                              float64\n",
              "total ether balance                                     float64\n",
              " Total ERC20 tnxs                                       float64\n",
              " ERC20 total Ether received                             float64\n",
              " ERC20 total ether sent                                 float64\n",
              " ERC20 total Ether sent contract                        float64\n",
              " ERC20 uniq sent addr                                   float64\n",
              " ERC20 uniq rec addr                                    float64\n",
              " ERC20 uniq sent addr.1                                 float64\n",
              " ERC20 uniq rec contract addr                           float64\n",
              " ERC20 avg time between sent tnx                        float64\n",
              " ERC20 avg time between rec tnx                         float64\n",
              " ERC20 avg time between rec 2 tnx                       float64\n",
              " ERC20 avg time between contract tnx                    float64\n",
              " ERC20 min val rec                                      float64\n",
              " ERC20 max val rec                                      float64\n",
              " ERC20 avg val rec                                      float64\n",
              " ERC20 min val sent                                     float64\n",
              " ERC20 max val sent                                     float64\n",
              " ERC20 avg val sent                                     float64\n",
              " ERC20 min val sent contract                            float64\n",
              " ERC20 max val sent contract                            float64\n",
              " ERC20 avg val sent contract                            float64\n",
              " ERC20 uniq sent token name                             float64\n",
              " ERC20 uniq rec token name                              float64\n",
              " ERC20 most sent token type                              object\n",
              " ERC20_most_rec_token_type                               object\n",
              "dtype: object"
            ]
          },
          "metadata": {},
          "execution_count": 18
        }
      ]
    },
    {
      "cell_type": "markdown",
      "metadata": {
        "id": "Q_I1gr_BabVv"
      },
      "source": [
        "# Building for bitcoin using ETH data"
      ]
    },
    {
      "cell_type": "markdown",
      "metadata": {
        "id": "T2piEc1qabVv"
      },
      "source": [
        "## Excluding the columns that represent the features that are not present in Bitcoin"
      ]
    },
    {
      "cell_type": "code",
      "metadata": {
        "execution": {
          "iopub.status.busy": "2021-11-16T17:43:24.835447Z",
          "iopub.execute_input": "2021-11-16T17:43:24.836084Z",
          "iopub.status.idle": "2021-11-16T17:43:24.843815Z",
          "shell.execute_reply.started": "2021-11-16T17:43:24.836030Z",
          "shell.execute_reply": "2021-11-16T17:43:24.843167Z"
        },
        "trusted": true,
        "id": "H1MEq_0wabVw"
      },
      "source": [
        "# cols_to_exclude = [\"Address\"] #, \"Number of Created Contracts\", \"min value sent to contract\", \"max val sent to contract\", \"avg value sent to contract\"]\n",
        "cols_to_exclude = {}\n",
        "cols_to_exclude[\"Address\"] = True\n",
        "\n",
        "for col in cols:\n",
        "    c = col.strip()\n",
        "    if(c[:5].lower() == \"erc20\" or c[-8:].lower() == \"contract\" or c[-9:].lower() == \"contracts\"):\n",
        "        cols_to_exclude[col] = True"
      ],
      "execution_count": 19,
      "outputs": []
    },
    {
      "cell_type": "code",
      "metadata": {
        "execution": {
          "iopub.status.busy": "2021-11-16T17:43:24.845120Z",
          "iopub.execute_input": "2021-11-16T17:43:24.845506Z",
          "iopub.status.idle": "2021-11-16T17:43:24.860349Z",
          "shell.execute_reply.started": "2021-11-16T17:43:24.845445Z",
          "shell.execute_reply": "2021-11-16T17:43:24.859307Z"
        },
        "trusted": true,
        "colab": {
          "base_uri": "https://localhost:8080/"
        },
        "id": "8iBUmX55abVw",
        "outputId": "2c2e3404-99e2-4d44-f1b9-3c9a7a4b33f9"
      },
      "source": [
        "cols_to_exclude"
      ],
      "execution_count": 20,
      "outputs": [
        {
          "output_type": "execute_result",
          "data": {
            "text/plain": [
              "{' ERC20 avg time between contract tnx': True,\n",
              " ' ERC20 avg time between rec 2 tnx': True,\n",
              " ' ERC20 avg time between rec tnx': True,\n",
              " ' ERC20 avg time between sent tnx': True,\n",
              " ' ERC20 avg val rec': True,\n",
              " ' ERC20 avg val sent': True,\n",
              " ' ERC20 avg val sent contract': True,\n",
              " ' ERC20 max val rec': True,\n",
              " ' ERC20 max val sent': True,\n",
              " ' ERC20 max val sent contract': True,\n",
              " ' ERC20 min val rec': True,\n",
              " ' ERC20 min val sent': True,\n",
              " ' ERC20 min val sent contract': True,\n",
              " ' ERC20 most sent token type': True,\n",
              " ' ERC20 total Ether received': True,\n",
              " ' ERC20 total Ether sent contract': True,\n",
              " ' ERC20 total ether sent': True,\n",
              " ' ERC20 uniq rec addr': True,\n",
              " ' ERC20 uniq rec contract addr': True,\n",
              " ' ERC20 uniq rec token name': True,\n",
              " ' ERC20 uniq sent addr': True,\n",
              " ' ERC20 uniq sent addr.1': True,\n",
              " ' ERC20 uniq sent token name': True,\n",
              " ' ERC20_most_rec_token_type': True,\n",
              " 'Address': True,\n",
              " 'Number of Created Contracts': True,\n",
              " 'avg value sent to contract': True,\n",
              " 'max val sent to contract': True,\n",
              " 'min value sent to contract': True,\n",
              " 'total ether sent contracts': True,\n",
              " 'total transactions (including tnx to create contract': True}"
            ]
          },
          "metadata": {},
          "execution_count": 20
        }
      ]
    },
    {
      "cell_type": "code",
      "metadata": {
        "execution": {
          "iopub.status.busy": "2021-11-16T17:43:24.861704Z",
          "iopub.execute_input": "2021-11-16T17:43:24.861950Z",
          "iopub.status.idle": "2021-11-16T17:43:24.871318Z",
          "shell.execute_reply.started": "2021-11-16T17:43:24.861921Z",
          "shell.execute_reply": "2021-11-16T17:43:24.870384Z"
        },
        "trusted": true,
        "id": "8sVe77MsabVw"
      },
      "source": [
        "cols_to_consider_for_btc = []\n",
        "for col in cols:\n",
        "    if col not in cols_to_exclude:\n",
        "        cols_to_consider_for_btc.append(col)"
      ],
      "execution_count": 21,
      "outputs": []
    },
    {
      "cell_type": "code",
      "metadata": {
        "execution": {
          "iopub.status.busy": "2021-11-16T17:43:24.872486Z",
          "iopub.execute_input": "2021-11-16T17:43:24.873043Z",
          "iopub.status.idle": "2021-11-16T17:43:24.885079Z",
          "shell.execute_reply.started": "2021-11-16T17:43:24.872992Z",
          "shell.execute_reply": "2021-11-16T17:43:24.884288Z"
        },
        "trusted": true,
        "colab": {
          "base_uri": "https://localhost:8080/"
        },
        "id": "rgUwq4unabVw",
        "outputId": "00937ab0-684c-47fa-c450-8a4abb39fc3b"
      },
      "source": [
        "cols_to_consider_for_btc = cols_to_consider_for_btc[:-1]\n",
        "cols_to_consider_for_btc"
      ],
      "execution_count": 22,
      "outputs": [
        {
          "output_type": "execute_result",
          "data": {
            "text/plain": [
              "['FLAG',\n",
              " 'Avg min between sent tnx',\n",
              " 'Avg min between received tnx',\n",
              " 'Time Diff between first and last (Mins)',\n",
              " 'Sent tnx',\n",
              " 'Received Tnx',\n",
              " 'Unique Received From Addresses',\n",
              " 'Unique Sent To Addresses',\n",
              " 'min value received',\n",
              " 'max value received ',\n",
              " 'avg val received',\n",
              " 'min val sent',\n",
              " 'max val sent',\n",
              " 'avg val sent',\n",
              " 'total Ether sent',\n",
              " 'total ether received',\n",
              " 'total ether balance']"
            ]
          },
          "metadata": {},
          "execution_count": 22
        }
      ]
    },
    {
      "cell_type": "code",
      "metadata": {
        "execution": {
          "iopub.status.busy": "2021-11-16T17:43:24.886246Z",
          "iopub.execute_input": "2021-11-16T17:43:24.886562Z",
          "iopub.status.idle": "2021-11-16T17:43:24.899750Z",
          "shell.execute_reply.started": "2021-11-16T17:43:24.886511Z",
          "shell.execute_reply": "2021-11-16T17:43:24.898598Z"
        },
        "trusted": true,
        "id": "uteQ7odaabVw"
      },
      "source": [
        "X_btc = df[cols_to_consider_for_btc[1:]]\n",
        "y_btc = df[cols_to_consider_for_btc[0]]"
      ],
      "execution_count": 23,
      "outputs": []
    },
    {
      "cell_type": "markdown",
      "metadata": {
        "id": "3gGW1n3oabVw"
      },
      "source": [
        "## Training the models for BTC convertable"
      ]
    },
    {
      "cell_type": "markdown",
      "metadata": {
        "id": "amIwlnySabVw"
      },
      "source": [
        "#### Preparing the training and the test data"
      ]
    },
    {
      "cell_type": "code",
      "metadata": {
        "execution": {
          "iopub.status.busy": "2021-11-16T17:43:24.901137Z",
          "iopub.execute_input": "2021-11-16T17:43:24.901597Z",
          "iopub.status.idle": "2021-11-16T17:43:25.873050Z",
          "shell.execute_reply.started": "2021-11-16T17:43:24.901562Z",
          "shell.execute_reply": "2021-11-16T17:43:25.872202Z"
        },
        "trusted": true,
        "id": "XHbjunepabVw"
      },
      "source": [
        "from sklearn.model_selection import train_test_split "
      ],
      "execution_count": 24,
      "outputs": []
    },
    {
      "cell_type": "code",
      "metadata": {
        "execution": {
          "iopub.status.busy": "2021-11-16T17:43:25.874360Z",
          "iopub.execute_input": "2021-11-16T17:43:25.874689Z",
          "iopub.status.idle": "2021-11-16T17:43:25.888386Z",
          "shell.execute_reply.started": "2021-11-16T17:43:25.874651Z",
          "shell.execute_reply": "2021-11-16T17:43:25.887449Z"
        },
        "trusted": true,
        "id": "2D-kePYlabVw"
      },
      "source": [
        "X_train, X_test, y_train, y_test = train_test_split(\n",
        "    X_btc, y_btc, test_size=0.20, random_state=42)"
      ],
      "execution_count": 25,
      "outputs": []
    },
    {
      "cell_type": "markdown",
      "metadata": {
        "id": "5K6N_MzAabVx"
      },
      "source": [
        "#### Training a random forest"
      ]
    },
    {
      "cell_type": "code",
      "metadata": {
        "execution": {
          "iopub.status.busy": "2021-11-16T17:43:25.889575Z",
          "iopub.execute_input": "2021-11-16T17:43:25.890003Z",
          "iopub.status.idle": "2021-11-16T17:43:26.188807Z",
          "shell.execute_reply.started": "2021-11-16T17:43:25.889961Z",
          "shell.execute_reply": "2021-11-16T17:43:26.187781Z"
        },
        "trusted": true,
        "id": "QrXDuQn5abVx"
      },
      "source": [
        "from sklearn.ensemble import RandomForestClassifier"
      ],
      "execution_count": 26,
      "outputs": []
    },
    {
      "cell_type": "code",
      "metadata": {
        "execution": {
          "iopub.status.busy": "2021-11-16T17:43:26.189926Z",
          "iopub.execute_input": "2021-11-16T17:43:26.190235Z",
          "iopub.status.idle": "2021-11-16T17:43:26.195093Z",
          "shell.execute_reply.started": "2021-11-16T17:43:26.190203Z",
          "shell.execute_reply": "2021-11-16T17:43:26.194214Z"
        },
        "trusted": true,
        "id": "Dq9WUWZgabVx"
      },
      "source": [
        "clf = RandomForestClassifier(n_estimators = 100, max_depth=10, random_state=0)"
      ],
      "execution_count": 27,
      "outputs": []
    },
    {
      "cell_type": "code",
      "metadata": {
        "execution": {
          "iopub.status.busy": "2021-11-16T17:43:26.196388Z",
          "iopub.execute_input": "2021-11-16T17:43:26.196705Z",
          "iopub.status.idle": "2021-11-16T17:43:27.756343Z",
          "shell.execute_reply.started": "2021-11-16T17:43:26.196664Z",
          "shell.execute_reply": "2021-11-16T17:43:27.755338Z"
        },
        "trusted": true,
        "colab": {
          "base_uri": "https://localhost:8080/"
        },
        "id": "9JXVnrTQabVx",
        "outputId": "cf0e8eb9-3075-45ea-c3ea-938b6376ae72"
      },
      "source": [
        "clf.fit(X_train, y_train)"
      ],
      "execution_count": 28,
      "outputs": [
        {
          "output_type": "execute_result",
          "data": {
            "text/plain": [
              "RandomForestClassifier(max_depth=10, random_state=0)"
            ]
          },
          "metadata": {},
          "execution_count": 28
        }
      ]
    },
    {
      "cell_type": "code",
      "metadata": {
        "execution": {
          "iopub.status.busy": "2021-11-16T17:43:27.757440Z",
          "iopub.execute_input": "2021-11-16T17:43:27.757645Z",
          "iopub.status.idle": "2021-11-16T17:43:27.796228Z",
          "shell.execute_reply.started": "2021-11-16T17:43:27.757621Z",
          "shell.execute_reply": "2021-11-16T17:43:27.795363Z"
        },
        "trusted": true,
        "id": "Cbm3r9RXabVx"
      },
      "source": [
        "preds = list(clf.predict(X_test))"
      ],
      "execution_count": 29,
      "outputs": []
    },
    {
      "cell_type": "code",
      "metadata": {
        "execution": {
          "iopub.status.busy": "2021-11-16T17:43:27.797778Z",
          "iopub.execute_input": "2021-11-16T17:43:27.798095Z",
          "iopub.status.idle": "2021-11-16T17:43:27.805163Z",
          "shell.execute_reply.started": "2021-11-16T17:43:27.798046Z",
          "shell.execute_reply": "2021-11-16T17:43:27.804183Z"
        },
        "trusted": true,
        "colab": {
          "base_uri": "https://localhost:8080/"
        },
        "id": "TigXFXrtabVx",
        "outputId": "c6b56b95-64d7-494e-9f9e-44e253fdfd20"
      },
      "source": [
        "n_correct = 0\n",
        "y_test = list(y_test)\n",
        "for i in range(len(preds)):\n",
        "    if(preds[i] == y_test[i]):\n",
        "        n_correct += 1\n",
        "        \n",
        "print(\"Accuracy = \" + str(n_correct/len(preds)))"
      ],
      "execution_count": 30,
      "outputs": [
        {
          "output_type": "stream",
          "name": "stdout",
          "text": [
            "Accuracy = 0.94667343829355\n"
          ]
        }
      ]
    },
    {
      "cell_type": "markdown",
      "metadata": {
        "id": "yEa-YV9a56x2"
      },
      "source": [
        "#### Model perfomrance analysis"
      ]
    },
    {
      "cell_type": "code",
      "metadata": {
        "id": "GpeQpRAC6BDQ"
      },
      "source": [
        "from sklearn.metrics import confusion_matrix, classification_report\n",
        "import seaborn as sns"
      ],
      "execution_count": 31,
      "outputs": []
    },
    {
      "cell_type": "code",
      "metadata": {
        "colab": {
          "base_uri": "https://localhost:8080/",
          "height": 282
        },
        "id": "3Cg909Cm6Z1X",
        "outputId": "689bcbc4-0849-484d-d300-df3930c2f2e3"
      },
      "source": [
        "cfm = confusion_matrix(list(y_test), preds, labels=[0, 1])\n",
        "sns.heatmap(cfm, annot=True)"
      ],
      "execution_count": 32,
      "outputs": [
        {
          "output_type": "execute_result",
          "data": {
            "text/plain": [
              "<matplotlib.axes._subplots.AxesSubplot at 0x7f00ba27d4d0>"
            ]
          },
          "metadata": {},
          "execution_count": 32
        },
        {
          "output_type": "display_data",
          "data": {
            "image/png": "[encoded data removed]",
            "text/plain": [
              "<Figure size 432x288 with 2 Axes>"
            ]
          },
          "metadata": {
            "needs_background": "light"
          }
        }
      ]
    },
    {
      "cell_type": "code",
      "metadata": {
        "colab": {
          "base_uri": "https://localhost:8080/"
        },
        "id": "28ndqgGvACSL",
        "outputId": "4def563a-2edc-4f76-85a5-e072c77e0c42"
      },
      "source": [
        "print(classification_report(list(y_test), preds, target_names = [\"Not Fraud\", \"Fraud\"]))"
      ],
      "execution_count": 33,
      "outputs": [
        {
          "output_type": "stream",
          "name": "stdout",
          "text": [
            "              precision    recall  f1-score   support\n",
            "\n",
            "   Not Fraud       0.95      0.98      0.97      1542\n",
            "       Fraud       0.93      0.81      0.87       427\n",
            "\n",
            "    accuracy                           0.95      1969\n",
            "   macro avg       0.94      0.90      0.92      1969\n",
            "weighted avg       0.95      0.95      0.95      1969\n",
            "\n"
          ]
        }
      ]
    },
    {
      "cell_type": "markdown",
      "metadata": {
        "id": "7oHV7kSW8gun"
      },
      "source": [
        "Precision"
      ]
    },
    {
      "cell_type": "code",
      "metadata": {
        "colab": {
          "base_uri": "https://localhost:8080/"
        },
        "id": "LcbzKExq7m4l",
        "outputId": "f49ad38e-dbd2-4f53-ef74-d866329635c8"
      },
      "source": [
        "cfm[0][0] / (cfm[0][0] + cfm[1][0])"
      ],
      "execution_count": 34,
      "outputs": [
        {
          "output_type": "execute_result",
          "data": {
            "text/plain": [
              "0.9504702194357367"
            ]
          },
          "metadata": {},
          "execution_count": 34
        }
      ]
    },
    {
      "cell_type": "markdown",
      "metadata": {
        "id": "l2KlRjtN8ihP"
      },
      "source": [
        "Recall"
      ]
    },
    {
      "cell_type": "code",
      "metadata": {
        "colab": {
          "base_uri": "https://localhost:8080/"
        },
        "id": "pHCT7_eE8j0z",
        "outputId": "ba5fb9df-d228-4773-8e7b-17acb20ff53a"
      },
      "source": [
        "cfm[0][0] / (cfm[0][0] + cfm[0][1])"
      ],
      "execution_count": 35,
      "outputs": [
        {
          "output_type": "execute_result",
          "data": {
            "text/plain": [
              "0.9831387808041504"
            ]
          },
          "metadata": {},
          "execution_count": 35
        }
      ]
    },
    {
      "cell_type": "markdown",
      "metadata": {
        "id": "TUUaHw-q6Bdc"
      },
      "source": [
        "#### Saving the model"
      ]
    },
    {
      "cell_type": "code",
      "metadata": {
        "id": "VHw9ZCiapuGb"
      },
      "source": [
        "pickle.dump(clf, open(\"rfc_bitcoin.bin\", \"wb\"))"
      ],
      "execution_count": 36,
      "outputs": []
    },
    {
      "cell_type": "code",
      "metadata": {
        "colab": {
          "base_uri": "https://localhost:8080/",
          "height": 17
        },
        "id": "iXKMc09mp6-p",
        "outputId": "7d11df61-65a8-4c53-9358-a5973fac36b6"
      },
      "source": [
        "from google.colab import files\n",
        "files.download(\"rfc_bitcoin.bin\")"
      ],
      "execution_count": 37,
      "outputs": [
        {
          "output_type": "display_data",
          "data": {
            "application/javascript": [
              "\n",
              "    async function download(id, filename, size) {\n",
              "      if (!google.colab.kernel.accessAllowed) {\n",
              "        return;\n",
              "      }\n",
              "      const div = document.createElement('div');\n",
              "      const label = document.createElement('label');\n",
              "      label.textContent = `Downloading \"${filename}\": `;\n",
              "      div.appendChild(label);\n",
              "      const progress = document.createElement('progress');\n",
              "      progress.max = size;\n",
              "      div.appendChild(progress);\n",
              "      document.body.appendChild(div);\n",
              "\n",
              "      const buffers = [];\n",
              "      let downloaded = 0;\n",
              "\n",
              "      const channel = await google.colab.kernel.comms.open(id);\n",
              "      // Send a message to notify the kernel that we're ready.\n",
              "      channel.send({})\n",
              "\n",
              "      for await (const message of channel.messages) {\n",
              "        // Send a message to notify the kernel that we're ready.\n",
              "        channel.send({})\n",
              "        if (message.buffers) {\n",
              "          for (const buffer of message.buffers) {\n",
              "            buffers.push(buffer);\n",
              "            downloaded += buffer.byteLength;\n",
              "            progress.value = downloaded;\n",
              "          }\n",
              "        }\n",
              "      }\n",
              "      const blob = new Blob(buffers, {type: 'application/binary'});\n",
              "      const a = document.createElement('a');\n",
              "      a.href = window.URL.createObjectURL(blob);\n",
              "      a.download = filename;\n",
              "      div.appendChild(a);\n",
              "      a.click();\n",
              "      div.remove();\n",
              "    }\n",
              "  "
            ],
            "text/plain": [
              "<IPython.core.display.Javascript object>"
            ]
          },
          "metadata": {}
        },
        {
          "output_type": "display_data",
          "data": {
            "application/javascript": [
              "download(\"download_859d4916-1482-4f8d-a6d4-e87a2a16748d\", \"rfc_bitcoin.bin\", 2447936)"
            ],
            "text/plain": [
              "<IPython.core.display.Javascript object>"
            ]
          },
          "metadata": {}
        }
      ]
    },
    {
      "cell_type": "markdown",
      "metadata": {
        "id": "Dr7IOIO4abVx"
      },
      "source": [
        "# Analysing the bitcoin data"
      ]
    },
    {
      "cell_type": "markdown",
      "metadata": {
        "id": "pLjGTzCkabVy"
      },
      "source": [
        "## Getting the features required for the model from a bitcoin address"
      ]
    },
    {
      "cell_type": "code",
      "metadata": {
        "execution": {
          "iopub.status.busy": "2021-11-15T19:25:09.045583Z",
          "iopub.execute_input": "2021-11-15T19:25:09.045907Z",
          "iopub.status.idle": "2021-11-15T19:25:09.056332Z",
          "shell.execute_reply.started": "2021-11-15T19:25:09.045857Z",
          "shell.execute_reply": "2021-11-15T19:25:09.05547Z"
        },
        "trusted": true,
        "colab": {
          "base_uri": "https://localhost:8080/"
        },
        "id": "ZxB5RdfOabVy",
        "outputId": "1bd136ab-e5b5-4ca9-d14a-c0c713b7b2fb"
      },
      "source": [
        "features_required_for_btc = cols_to_consider_for_btc[1:]\n",
        "features_required_for_btc"
      ],
      "execution_count": 38,
      "outputs": [
        {
          "output_type": "execute_result",
          "data": {
            "text/plain": [
              "['Avg min between sent tnx',\n",
              " 'Avg min between received tnx',\n",
              " 'Time Diff between first and last (Mins)',\n",
              " 'Sent tnx',\n",
              " 'Received Tnx',\n",
              " 'Unique Received From Addresses',\n",
              " 'Unique Sent To Addresses',\n",
              " 'min value received',\n",
              " 'max value received ',\n",
              " 'avg val received',\n",
              " 'min val sent',\n",
              " 'max val sent',\n",
              " 'avg val sent',\n",
              " 'total Ether sent',\n",
              " 'total ether received',\n",
              " 'total ether balance']"
            ]
          },
          "metadata": {},
          "execution_count": 38
        }
      ]
    },
    {
      "cell_type": "markdown",
      "metadata": {
        "id": "WQj2RX6SabVx"
      },
      "source": [
        "## Helper functions"
      ]
    },
    {
      "cell_type": "markdown",
      "metadata": {
        "id": "6fseCV0BabVy"
      },
      "source": [
        "### Conversion from bitcoin to ethereum"
      ]
    },
    {
      "cell_type": "code",
      "metadata": {
        "execution": {
          "iopub.status.busy": "2021-11-15T19:25:09.01656Z",
          "iopub.execute_input": "2021-11-15T19:25:09.016782Z",
          "iopub.status.idle": "2021-11-15T19:25:09.030823Z",
          "shell.execute_reply.started": "2021-11-15T19:25:09.016755Z",
          "shell.execute_reply": "2021-11-15T19:25:09.030127Z"
        },
        "trusted": true,
        "id": "G1L6FoRrabVy"
      },
      "source": [
        "def get_value_in_eth(value_in_btc, conversion_rate = 13.69):\n",
        "    return value_in_btc * conversion_rate"
      ],
      "execution_count": 39,
      "outputs": []
    },
    {
      "cell_type": "code",
      "metadata": {
        "execution": {
          "iopub.status.busy": "2021-11-15T19:25:09.032139Z",
          "iopub.execute_input": "2021-11-15T19:25:09.032622Z",
          "iopub.status.idle": "2021-11-15T19:25:09.044272Z",
          "shell.execute_reply.started": "2021-11-15T19:25:09.032589Z",
          "shell.execute_reply": "2021-11-15T19:25:09.043561Z"
        },
        "trusted": true,
        "colab": {
          "base_uri": "https://localhost:8080/"
        },
        "id": "1yz7AlpiabVy",
        "outputId": "5fa91846-bc43-428a-86a5-fec2916d76a9"
      },
      "source": [
        "get_value_in_eth(20)"
      ],
      "execution_count": 40,
      "outputs": [
        {
          "output_type": "execute_result",
          "data": {
            "text/plain": [
              "273.8"
            ]
          },
          "metadata": {},
          "execution_count": 40
        }
      ]
    },
    {
      "cell_type": "markdown",
      "metadata": {
        "id": "dt30zvdeabVx"
      },
      "source": [
        "### Getting the required details from the account address"
      ]
    },
    {
      "cell_type": "markdown",
      "metadata": {
        "id": "rdiN_HM_chet"
      },
      "source": [
        "#### Account analytics\n",
        "The functions below are used to provide some analytics about an account, based on the response from the blockchain.com APIs"
      ]
    },
    {
      "cell_type": "code",
      "metadata": {
        "id": "X6_2jaj9ce0p"
      },
      "source": [
        "# More helpers\n",
        "def calculate_time_between_first_and_last_transactions(transactions):\n",
        "    if(len(transactions) < 0):\n",
        "        return 0\n",
        "    \n",
        "    last_trx_dt = datetime.fromtimestamp(transactions[0][\"time\"])\n",
        "    first_trx_dt = datetime.fromtimestamp(transactions[-1][\"time\"])\n",
        "    \n",
        "    time_diff = (last_trx_dt - first_trx_dt).total_seconds()\n",
        "    \n",
        "    return time_diff / 60\n",
        "\n",
        "def get_transaction_stats(transactions):\n",
        "    unique_sent_to_addresses = set()\n",
        "    n_sent = 0\n",
        "    min_sent = float('inf')\n",
        "    max_sent = -float('inf')\n",
        "    total_sent = 0\n",
        "    avg_sent = 0\n",
        "    \n",
        "    unique_received_from_addresses = set()\n",
        "    n_received = 0\n",
        "    min_received = float('inf')\n",
        "    max_received = -float('inf')\n",
        "    total_received = 0\n",
        "    avg_received = 0\n",
        "    \n",
        "    for transaction in transactions:\n",
        "        if(transaction[\"result\"] < 0):\n",
        "            n_sent += 1\n",
        "            for sender in transaction[\"out\"]:\n",
        "                unique_sent_to_addresses.add(sender[\"addr\"])\n",
        "            \n",
        "            amt = - transaction[\"result\"]\n",
        "            total_sent += amt\n",
        "            min_sent = min(min_sent, amt)\n",
        "            max_sent = max(max_sent, amt)\n",
        "            \n",
        "        else:\n",
        "            n_received += 1\n",
        "            for receiver in transaction[\"out\"]:\n",
        "                unique_received_from_addresses.add(receiver[\"addr\"])\n",
        "            \n",
        "            amt = transaction[\"result\"]\n",
        "            total_received += amt\n",
        "            min_received = min(min_sent, amt)\n",
        "            max_received = max(max_sent, amt)\n",
        "                \n",
        "    min_received = 0 if min_received == float('inf') else min_received\n",
        "    max_received = 0 if max_received == -float('inf') else max_received\n",
        "    avg_received = total_received / n_received if n_received > 0 else 0\n",
        "    \n",
        "    min_sent = 0 if min_sent == float('inf') else min_sent\n",
        "    max_sent = 0 if max_sent == -float('inf') else max_sent\n",
        "    avg_sent = total_sent / n_sent if n_sent > 0 else 0\n",
        "    \n",
        "    return n_sent, n_received, len(unique_received_from_addresses), len(unique_sent_to_addresses), min_received, max_received, avg_received, min_sent, max_sent, avg_sent \n",
        "    \n",
        "    \n",
        "\n",
        "def calculate_average_time_between_transactions(transactions):\n",
        "    if(len(transactions) < 2):\n",
        "        return 0, 0\n",
        "    else:\n",
        "        # For sent transactions\n",
        "        n_diff_count_for_sent = 0\n",
        "        total_diffs_for_sent = 0\n",
        "        prev_sent_trx_for_sent = None\n",
        "        \n",
        "        n_diff_count_for_received = 0\n",
        "        total_diffs_for_received = 0\n",
        "        prev_sent_trx_for_received = None\n",
        "        \n",
        "        for trx in transactions:\n",
        "            if(trx[\"result\"] < 0):\n",
        "                if prev_sent_trx_for_sent == None:\n",
        "                    prev_sent_trx_for_sent = trx\n",
        "                    continue\n",
        "                else:\n",
        "                    t2_time = datetime.fromtimestamp(prev_sent_trx_for_sent[\"time\"])\n",
        "                    t1_time = datetime.fromtimestamp(trx[\"time\"])\n",
        "                    n_diff_count_for_sent += 1\n",
        "                    total_diffs_for_sent += (t2_time - t1_time).total_seconds()\n",
        "                    prev_sent_trx_for_sent = trx\n",
        "                    \n",
        "            else:\n",
        "                if prev_sent_trx_for_received == None:\n",
        "                    prev_sent_trx_for_received = trx\n",
        "                    continue\n",
        "                else:\n",
        "                    t2_time = datetime.fromtimestamp(prev_sent_trx_for_received[\"time\"])\n",
        "                    t1_time = datetime.fromtimestamp(trx[\"time\"])\n",
        "                    n_diff_count_for_received += 1\n",
        "                    total_diffs_for_received += (t2_time - t1_time).total_seconds()\n",
        "                    prev_sent_trx_for_received = trx\n",
        "                    \n",
        "        \n",
        "        avg_bw_sent_mins = (total_diffs_for_sent / n_diff_count_for_sent) / 60 if n_diff_count_for_sent != 0 else 0\n",
        "        avg_bw_received_mins = (total_diffs_for_received / n_diff_count_for_received) / 60 if n_diff_count_for_received != 0 else 0\n",
        "        \n",
        "        return avg_bw_sent_mins, avg_bw_received_mins"
      ],
      "execution_count": 41,
      "outputs": []
    },
    {
      "cell_type": "markdown",
      "metadata": {
        "id": "sRdAjCUscuoV"
      },
      "source": [
        "#### Main"
      ]
    },
    {
      "cell_type": "code",
      "metadata": {
        "execution": {
          "iopub.status.busy": "2021-11-16T17:43:27.807199Z",
          "iopub.execute_input": "2021-11-16T17:43:27.807517Z",
          "iopub.status.idle": "2021-11-16T17:43:27.824885Z",
          "shell.execute_reply.started": "2021-11-16T17:43:27.807474Z",
          "shell.execute_reply": "2021-11-16T17:43:27.823564Z"
        },
        "trusted": true,
        "id": "29MhnmhZabVx"
      },
      "source": [
        "import requests\n",
        "from datetime import datetime\n",
        "\n",
        "'''\n",
        "Needed:\n",
        "['Avg min between sent tnx',\n",
        " 'Avg min between received tnx',\n",
        " 'Time Diff between first and last (Mins)',\n",
        " 'Sent tnx',\n",
        " 'Received Tnx',\n",
        " 'Unique Received From Addresses',\n",
        " 'Unique Sent To Addresses',\n",
        " 'min value received',\n",
        " 'max value received ',\n",
        " 'avg val received',\n",
        " 'min val sent',\n",
        " 'max val sent',\n",
        " 'avg val sent',\n",
        " 'total Ether sent',\n",
        " 'total ether received',\n",
        " 'total ether balance']\n",
        "'''\n",
        "\n",
        "def get_account_summary(account_address, convert_to_eth = True):\n",
        "    blockchain_info_response = requests.get(\"https://blockchain.info/rawaddr/\" + account_address)\n",
        "\n",
        "    response_status_code = blockchain_info_response.status_code\n",
        "    \n",
        "    if response_status_code != 200:\n",
        "        print(\"Got to an error: \" + str(blockchain_info_response))\n",
        "        if response_status_code == 429:\n",
        "          raise Exception(\"The API does not allow you to make too many requests\")\n",
        "        else:\n",
        "          raise Exception(\"The requested Bitcoin address does not exist\")\n",
        "        \n",
        "    full_account_details = blockchain_info_response.json()\n",
        "    \n",
        "    avg_time_bw_sent_trxs, avg_time_bw_rec_trxs = calculate_average_time_between_transactions(full_account_details[\"txs\"])\n",
        "    td_bw_fandl_trxs = calculate_time_between_first_and_last_transactions(full_account_details[\"txs\"])\n",
        "    n_sent, n_received, unique_received_from_addresses, unique_sent_to_addresses, min_received, max_received, avg_received, min_sent, max_sent, avg_sent = get_transaction_stats(full_account_details[\"txs\"])\n",
        "    # print((n_sent, n_received, unique_received_from_addresses, unique_sent_to_addresses, min_received, max_received, avg_received, min_sent, max_sent, avg_sent))\n",
        "    total_sent = full_account_details[\"total_sent\"]\n",
        "    total_received = full_account_details[\"total_received\"]\n",
        "    total_balance = full_account_details[\"final_balance\"]\n",
        "\n",
        "    div = 100000000\n",
        "\n",
        "    if convert_to_eth == True:\n",
        "      ret_data = [\n",
        "        avg_time_bw_sent_trxs,\n",
        "        avg_time_bw_rec_trxs,\n",
        "        td_bw_fandl_trxs,\n",
        "        n_sent,\n",
        "        n_received,\n",
        "        unique_received_from_addresses,\n",
        "        unique_sent_to_addresses,\n",
        "        get_value_in_eth(min_received/div),\n",
        "        get_value_in_eth(max_received/div),\n",
        "        get_value_in_eth(avg_received/div),\n",
        "        get_value_in_eth(min_sent/div),\n",
        "        get_value_in_eth(max_sent/div),\n",
        "        get_value_in_eth(avg_sent/div),\n",
        "        get_value_in_eth(total_sent/div),\n",
        "        get_value_in_eth(total_received/div),\n",
        "        get_value_in_eth(total_balance/div),\n",
        "      ]\n",
        "\n",
        "    else:\n",
        "      ret_data = [\n",
        "        avg_time_bw_sent_trxs,\n",
        "        avg_time_bw_rec_trxs,\n",
        "        td_bw_fandl_trxs,\n",
        "        n_sent,\n",
        "        n_received,\n",
        "        unique_received_from_addresses,\n",
        "        unique_sent_to_addresses,\n",
        "        min_received/div,\n",
        "        max_received/div,\n",
        "        avg_received/div,\n",
        "        min_sent/div,\n",
        "        max_sent/div,\n",
        "        avg_sent/div,\n",
        "        total_sent/div,\n",
        "        total_received/div,\n",
        "        total_balance/div,\n",
        "      ]\n",
        "\n",
        "    return ret_data\n",
        "    "
      ],
      "execution_count": 42,
      "outputs": []
    },
    {
      "cell_type": "code",
      "metadata": {
        "execution": {
          "iopub.status.busy": "2021-11-16T05:18:15.018218Z",
          "iopub.status.idle": "2021-11-16T05:18:15.01874Z",
          "shell.execute_reply.started": "2021-11-16T05:18:15.01846Z",
          "shell.execute_reply": "2021-11-16T05:18:15.018487Z"
        },
        "trusted": true,
        "colab": {
          "base_uri": "https://localhost:8080/"
        },
        "id": "4sjR7rpCabVx",
        "outputId": "07bb134a-2406-4cb2-9895-66d5574e72b3"
      },
      "source": [
        "acc_summary = get_account_summary(\"bc1q87ct56gem5v459kqyfdytnktx2vu7mgkfff70h6rpjmlq9km8lvqseazak\")\n",
        "# acc_summary = get_account_summary(\"bc1qsqa7qnfj28fzhwhjd8r85n2y97lta5xg6aktx2\")\n",
        "acc_summary"
      ],
      "execution_count": 43,
      "outputs": [
        {
          "output_type": "execute_result",
          "data": {
            "text/plain": [
              "[20892.591666666667,\n",
              " 4211.8592592592595,\n",
              " 89978.21666666666,\n",
              " 5,\n",
              " 19,\n",
              " 724,\n",
              " 6,\n",
              " 0.1361391098,\n",
              " 6.9812059170000005,\n",
              " 0.7430857929894736,\n",
              " 0.1361391098,\n",
              " 6.9812059170000005,\n",
              " 2.81450987798,\n",
              " 14.072549389899999,\n",
              " 14.118630066800002,\n",
              " 0.0460806769]"
            ]
          },
          "metadata": {},
          "execution_count": 43
        }
      ]
    },
    {
      "cell_type": "markdown",
      "metadata": {
        "id": "cOaZsmtzehxC"
      },
      "source": [
        "### Sample prediction for ETH"
      ]
    },
    {
      "cell_type": "code",
      "metadata": {
        "colab": {
          "base_uri": "https://localhost:8080/"
        },
        "id": "RQJqcD37dcFs",
        "outputId": "156da108-ae82-4da7-9b32-a0cfdc562203"
      },
      "source": [
        "pred = clf.predict(np.array(list(X_test.iloc[0])).reshape(1, -1))\n",
        "pred[0]"
      ],
      "execution_count": 44,
      "outputs": [
        {
          "output_type": "stream",
          "name": "stderr",
          "text": [
            "/usr/local/lib/python3.7/dist-packages/sklearn/base.py:446: UserWarning: X does not have valid feature names, but RandomForestClassifier was fitted with feature names\n",
            "  \"X does not have valid feature names, but\"\n"
          ]
        },
        {
          "output_type": "execute_result",
          "data": {
            "text/plain": [
              "1"
            ]
          },
          "metadata": {},
          "execution_count": 44
        }
      ]
    },
    {
      "cell_type": "code",
      "metadata": {
        "id": "RGGWdOdkabVy"
      },
      "source": [
        "def is_fraud_by_rf_clf(feature_val_list):\n",
        "  pred = clf.predict(np.array(feature_val_list).reshape(1, -1))\n",
        "  return pred"
      ],
      "execution_count": 45,
      "outputs": []
    },
    {
      "cell_type": "markdown",
      "metadata": {
        "id": "LXe_PycTnzxH"
      },
      "source": [
        "## Testing out (manually)"
      ]
    },
    {
      "cell_type": "code",
      "metadata": {
        "colab": {
          "base_uri": "https://localhost:8080/"
        },
        "id": "tUE5aNknnyZ6",
        "outputId": "ab0de7b3-e183-4541-bb0b-3269461b821e"
      },
      "source": [
        "is_fraud_by_rf_clf(get_account_summary(\"bc1q87ct56gem5v459kqyfdytnktx2vu7mgkfff70h6rpjmlq9km8lvqseazak\"))"
      ],
      "execution_count": 46,
      "outputs": [
        {
          "output_type": "stream",
          "name": "stderr",
          "text": [
            "/usr/local/lib/python3.7/dist-packages/sklearn/base.py:446: UserWarning: X does not have valid feature names, but RandomForestClassifier was fitted with feature names\n",
            "  \"X does not have valid feature names, but\"\n"
          ]
        },
        {
          "output_type": "execute_result",
          "data": {
            "text/plain": [
              "array([1])"
            ]
          },
          "metadata": {},
          "execution_count": 46
        }
      ]
    },
    {
      "cell_type": "code",
      "metadata": {
        "id": "5ZCPFSyImml1",
        "colab": {
          "base_uri": "https://localhost:8080/"
        },
        "outputId": "f27b5c0d-17ba-4ed9-e727-a20712b43769"
      },
      "source": [
        "address = [\n",
        "  \"bc1q87ct56gem5v459kqyfdytnktx2vu7mgkfff70h6rpjmlq9km8lvqseazak\",\n",
        "  \"134r8iHv69xdT6p5qVKTsHrcUEuBVZAYak\", # Blacklisted as it belongs to North Korea or something\n",
        "  \"15shyVcYAeZeXu1aMEKdBH62wHJjdqkRXW\", # the guy who stole from me\n",
        "  \"bc1qsqa7qnfj28fzhwhjd8r85n2y97lta5xg6aktx2\", # mine\n",
        "]\n",
        "\n",
        "is_fraud_by_rf_clf(get_account_summary(\"bc1qwx65erq2tddwqkge0ylq4rkuteduzgcxuf4dq6\"))[0]"
      ],
      "execution_count": 47,
      "outputs": [
        {
          "output_type": "stream",
          "name": "stderr",
          "text": [
            "/usr/local/lib/python3.7/dist-packages/sklearn/base.py:446: UserWarning: X does not have valid feature names, but RandomForestClassifier was fitted with feature names\n",
            "  \"X does not have valid feature names, but\"\n"
          ]
        },
        {
          "output_type": "execute_result",
          "data": {
            "text/plain": [
              "1"
            ]
          },
          "metadata": {},
          "execution_count": 47
        }
      ]
    },
    {
      "cell_type": "markdown",
      "metadata": {
        "id": "bw3e8KXhKZLW"
      },
      "source": [
        "# Testing out with bitcoin fraud dataset\n",
        "Downloaded from UC Irvine"
      ]
    },
    {
      "cell_type": "code",
      "metadata": {
        "id": "l62hxyrdL6zx"
      },
      "source": [
        "from sklearn.cluster import KMeans"
      ],
      "execution_count": 48,
      "outputs": []
    },
    {
      "cell_type": "markdown",
      "metadata": {
        "id": "LHgTG98UKnNy"
      },
      "source": [
        "## Loading the data"
      ]
    },
    {
      "cell_type": "code",
      "metadata": {
        "id": "ilnj5aLGKzyN"
      },
      "source": [
        "btc_heist_df = pd.read_csv(data_root_dir + \"BitcoinHeistData 2.csv\")"
      ],
      "execution_count": 49,
      "outputs": []
    },
    {
      "cell_type": "code",
      "metadata": {
        "colab": {
          "base_uri": "https://localhost:8080/",
          "height": 206
        },
        "id": "1YkT-kFcLOMh",
        "outputId": "ba7f50c9-a28e-4acc-cfd4-43a8938a1a5c"
      },
      "source": [
        "btc_heist_df.head()"
      ],
      "execution_count": 50,
      "outputs": [
        {
          "output_type": "execute_result",
          "data": {
            "text/html": [
              "<div>\n",
              "<style scoped>\n",
              "    .dataframe tbody tr th:only-of-type {\n",
              "        vertical-align: middle;\n",
              "    }\n",
              "\n",
              "    .dataframe tbody tr th {\n",
              "        vertical-align: top;\n",
              "    }\n",
              "\n",
              "    .dataframe thead th {\n",
              "        text-align: right;\n",
              "    }\n",
              "</style>\n",
              "<table border=\"1\" class=\"dataframe\">\n",
              "  <thead>\n",
              "    <tr style=\"text-align: right;\">\n",
              "      <th></th>\n",
              "      <th>address</th>\n",
              "      <th>year</th>\n",
              "      <th>day</th>\n",
              "      <th>length</th>\n",
              "      <th>weight</th>\n",
              "      <th>count</th>\n",
              "      <th>looped</th>\n",
              "      <th>neighbors</th>\n",
              "      <th>income</th>\n",
              "      <th>label</th>\n",
              "    </tr>\n",
              "  </thead>\n",
              "  <tbody>\n",
              "    <tr>\n",
              "      <th>0</th>\n",
              "      <td>111K8kZAEnJg245r2cM6y9zgJGHZtJPy6</td>\n",
              "      <td>2017</td>\n",
              "      <td>11</td>\n",
              "      <td>18</td>\n",
              "      <td>0.008333</td>\n",
              "      <td>1</td>\n",
              "      <td>0</td>\n",
              "      <td>2</td>\n",
              "      <td>100050000.0</td>\n",
              "      <td>princetonCerber</td>\n",
              "    </tr>\n",
              "    <tr>\n",
              "      <th>1</th>\n",
              "      <td>1123pJv8jzeFQaCV4w644pzQJzVWay2zcA</td>\n",
              "      <td>2016</td>\n",
              "      <td>132</td>\n",
              "      <td>44</td>\n",
              "      <td>0.000244</td>\n",
              "      <td>1</td>\n",
              "      <td>0</td>\n",
              "      <td>1</td>\n",
              "      <td>100000000.0</td>\n",
              "      <td>princetonLocky</td>\n",
              "    </tr>\n",
              "    <tr>\n",
              "      <th>2</th>\n",
              "      <td>112536im7hy6wtKbpH1qYDWtTyMRAcA2p7</td>\n",
              "      <td>2016</td>\n",
              "      <td>246</td>\n",
              "      <td>0</td>\n",
              "      <td>1.000000</td>\n",
              "      <td>1</td>\n",
              "      <td>0</td>\n",
              "      <td>2</td>\n",
              "      <td>200000000.0</td>\n",
              "      <td>princetonCerber</td>\n",
              "    </tr>\n",
              "    <tr>\n",
              "      <th>3</th>\n",
              "      <td>1126eDRw2wqSkWosjTCre8cjjQW8sSeWH7</td>\n",
              "      <td>2016</td>\n",
              "      <td>322</td>\n",
              "      <td>72</td>\n",
              "      <td>0.003906</td>\n",
              "      <td>1</td>\n",
              "      <td>0</td>\n",
              "      <td>2</td>\n",
              "      <td>71200000.0</td>\n",
              "      <td>princetonCerber</td>\n",
              "    </tr>\n",
              "    <tr>\n",
              "      <th>4</th>\n",
              "      <td>1129TSjKtx65E35GiUo4AYVeyo48twbrGX</td>\n",
              "      <td>2016</td>\n",
              "      <td>238</td>\n",
              "      <td>144</td>\n",
              "      <td>0.072848</td>\n",
              "      <td>456</td>\n",
              "      <td>0</td>\n",
              "      <td>1</td>\n",
              "      <td>200000000.0</td>\n",
              "      <td>princetonLocky</td>\n",
              "    </tr>\n",
              "  </tbody>\n",
              "</table>\n",
              "</div>"
            ],
            "text/plain": [
              "                              address  year  ...       income            label\n",
              "0   111K8kZAEnJg245r2cM6y9zgJGHZtJPy6  2017  ...  100050000.0  princetonCerber\n",
              "1  1123pJv8jzeFQaCV4w644pzQJzVWay2zcA  2016  ...  100000000.0   princetonLocky\n",
              "2  112536im7hy6wtKbpH1qYDWtTyMRAcA2p7  2016  ...  200000000.0  princetonCerber\n",
              "3  1126eDRw2wqSkWosjTCre8cjjQW8sSeWH7  2016  ...   71200000.0  princetonCerber\n",
              "4  1129TSjKtx65E35GiUo4AYVeyo48twbrGX  2016  ...  200000000.0   princetonLocky\n",
              "\n",
              "[5 rows x 10 columns]"
            ]
          },
          "metadata": {},
          "execution_count": 50
        }
      ]
    },
    {
      "cell_type": "code",
      "metadata": {
        "id": "cLWAfwlQLRVJ"
      },
      "source": [
        "btc_addresses = list(btc_heist_df['address'])"
      ],
      "execution_count": 51,
      "outputs": []
    },
    {
      "cell_type": "code",
      "metadata": {
        "colab": {
          "base_uri": "https://localhost:8080/"
        },
        "id": "xtzKepw8MdLT",
        "outputId": "90a0ae6a-e300-408e-8a9f-815af19ba359"
      },
      "source": [
        "len(df)"
      ],
      "execution_count": 52,
      "outputs": [
        {
          "output_type": "execute_result",
          "data": {
            "text/plain": [
              "9841"
            ]
          },
          "metadata": {},
          "execution_count": 52
        }
      ]
    },
    {
      "cell_type": "markdown",
      "metadata": {
        "id": "klZJCAHiMHDq"
      },
      "source": [
        "## Subsetting the columns"
      ]
    },
    {
      "cell_type": "code",
      "metadata": {
        "colab": {
          "base_uri": "https://localhost:8080/"
        },
        "id": "G_-Phyl2LaIc",
        "outputId": "e5368767-b069-4ce6-cde6-4a9df50ac93f"
      },
      "source": [
        "btc_heist_df.columns"
      ],
      "execution_count": 53,
      "outputs": [
        {
          "output_type": "execute_result",
          "data": {
            "text/plain": [
              "Index(['address', 'year', 'day', 'length', 'weight', 'count', 'looped',\n",
              "       'neighbors', 'income', 'label'],\n",
              "      dtype='object')"
            ]
          },
          "metadata": {},
          "execution_count": 53
        }
      ]
    },
    {
      "cell_type": "code",
      "metadata": {
        "id": "SwftuYwjLmaE"
      },
      "source": [
        "cols_to_consider = ['length', 'weight', 'count', 'looped', 'neighbors', 'income']\n",
        "considered_df = btc_heist_df[cols_to_consider]"
      ],
      "execution_count": 54,
      "outputs": []
    },
    {
      "cell_type": "code",
      "metadata": {
        "colab": {
          "base_uri": "https://localhost:8080/",
          "height": 206
        },
        "id": "j2fSmNWtL1Cc",
        "outputId": "22b099a1-2d07-4a46-cb72-1c9168f730c0"
      },
      "source": [
        "considered_df.head()"
      ],
      "execution_count": 55,
      "outputs": [
        {
          "output_type": "execute_result",
          "data": {
            "text/html": [
              "<div>\n",
              "<style scoped>\n",
              "    .dataframe tbody tr th:only-of-type {\n",
              "        vertical-align: middle;\n",
              "    }\n",
              "\n",
              "    .dataframe tbody tr th {\n",
              "        vertical-align: top;\n",
              "    }\n",
              "\n",
              "    .dataframe thead th {\n",
              "        text-align: right;\n",
              "    }\n",
              "</style>\n",
              "<table border=\"1\" class=\"dataframe\">\n",
              "  <thead>\n",
              "    <tr style=\"text-align: right;\">\n",
              "      <th></th>\n",
              "      <th>length</th>\n",
              "      <th>weight</th>\n",
              "      <th>count</th>\n",
              "      <th>looped</th>\n",
              "      <th>neighbors</th>\n",
              "      <th>income</th>\n",
              "    </tr>\n",
              "  </thead>\n",
              "  <tbody>\n",
              "    <tr>\n",
              "      <th>0</th>\n",
              "      <td>18</td>\n",
              "      <td>0.008333</td>\n",
              "      <td>1</td>\n",
              "      <td>0</td>\n",
              "      <td>2</td>\n",
              "      <td>100050000.0</td>\n",
              "    </tr>\n",
              "    <tr>\n",
              "      <th>1</th>\n",
              "      <td>44</td>\n",
              "      <td>0.000244</td>\n",
              "      <td>1</td>\n",
              "      <td>0</td>\n",
              "      <td>1</td>\n",
              "      <td>100000000.0</td>\n",
              "    </tr>\n",
              "    <tr>\n",
              "      <th>2</th>\n",
              "      <td>0</td>\n",
              "      <td>1.000000</td>\n",
              "      <td>1</td>\n",
              "      <td>0</td>\n",
              "      <td>2</td>\n",
              "      <td>200000000.0</td>\n",
              "    </tr>\n",
              "    <tr>\n",
              "      <th>3</th>\n",
              "      <td>72</td>\n",
              "      <td>0.003906</td>\n",
              "      <td>1</td>\n",
              "      <td>0</td>\n",
              "      <td>2</td>\n",
              "      <td>71200000.0</td>\n",
              "    </tr>\n",
              "    <tr>\n",
              "      <th>4</th>\n",
              "      <td>144</td>\n",
              "      <td>0.072848</td>\n",
              "      <td>456</td>\n",
              "      <td>0</td>\n",
              "      <td>1</td>\n",
              "      <td>200000000.0</td>\n",
              "    </tr>\n",
              "  </tbody>\n",
              "</table>\n",
              "</div>"
            ],
            "text/plain": [
              "   length    weight  count  looped  neighbors       income\n",
              "0      18  0.008333      1       0          2  100050000.0\n",
              "1      44  0.000244      1       0          1  100000000.0\n",
              "2       0  1.000000      1       0          2  200000000.0\n",
              "3      72  0.003906      1       0          2   71200000.0\n",
              "4     144  0.072848    456       0          1  200000000.0"
            ]
          },
          "metadata": {},
          "execution_count": 55
        }
      ]
    },
    {
      "cell_type": "markdown",
      "metadata": {
        "id": "lAoY7Y2_MM5X"
      },
      "source": [
        "## Training the model"
      ]
    },
    {
      "cell_type": "code",
      "metadata": {
        "id": "7lS48adYMZhp"
      },
      "source": [
        "X_train = considered_df[:5000]\n",
        "X_clf = considered_df[5000:]"
      ],
      "execution_count": 56,
      "outputs": []
    },
    {
      "cell_type": "code",
      "metadata": {
        "colab": {
          "base_uri": "https://localhost:8080/"
        },
        "id": "BLtmFZi6MLIZ",
        "outputId": "1c16cfda-fa12-4977-dada-8f252b893239"
      },
      "source": [
        "btc_kmeans_clf = KMeans(n_clusters=2, random_state=0)\n",
        "btc_kmeans_clf.fit(X_train)"
      ],
      "execution_count": 57,
      "outputs": [
        {
          "output_type": "execute_result",
          "data": {
            "text/plain": [
              "KMeans(n_clusters=2, random_state=0)"
            ]
          },
          "metadata": {},
          "execution_count": 57
        }
      ]
    },
    {
      "cell_type": "code",
      "metadata": {
        "id": "JWNy3Xwwvfdg"
      },
      "source": [
        ""
      ],
      "execution_count": 57,
      "outputs": []
    }
  ]
}